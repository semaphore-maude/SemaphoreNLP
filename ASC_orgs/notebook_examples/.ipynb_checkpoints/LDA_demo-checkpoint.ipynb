{
 "cells": [
  {
   "cell_type": "markdown",
   "metadata": {},
   "source": [
    "<hr/><hr/>\n",
    "\n",
    "# Topic Modeling with Latent Dirichlet Allocation Demo\n",
    "\n",
    "<br/>\n",
    "\n",
    "See `word_preprocess.ipynb` notebook for details about data and parameters used to clean, stem, lemmatize and tokenize the text data in preparation for LDA using Gensim. <span id=\"sklearn\">[[see 1]](#f1)</span> \n",
    "\n",
    "All global tuneable parameter settings can be adjusted manually on the `tuning_params.json` [file](changeable_parameters/tuning_params.json). Settings used are saved [here](results/lda_table_path.csv).\n",
    "\n",
    "Click on `Click here to hide/show the current code cell` link underneath to display hidden code cells.\n",
    "\n",
    "\n",
    "<hr/><hr/><br/>\n",
    "\n",
    "1- <span id=\"f1\"></span> Methods to prepare data for topic modeling with the `sklearn` library are implemented with the `DimReducePlot` class in [word_preprocess.py](helper/word_preprocess.py) [$\\hookleftarrow$](#sklearn)\n"
   ]
  },
  {
   "cell_type": "markdown",
   "metadata": {},
   "source": [
    "### Load all libraries and modules, read files:"
   ]
  },
  {
   "cell_type": "code",
   "execution_count": 1,
   "metadata": {},
   "outputs": [
    {
     "data": {
      "text/html": [
       "<script type=\"text/javascript\">window.PlotlyConfig = {MathJaxConfig: 'local'};</script><script type=\"text/javascript\">if (window.MathJax) {MathJax.Hub.Config({SVG: {font: \"STIX-Web\"}});}</script><script>requirejs.config({paths: { 'plotly': ['https://cdn.plot.ly/plotly-latest.min']},});if(!window._Plotly) {require(['plotly'],function(plotly) {window._Plotly=plotly;});}</script>"
      ],
      "text/vnd.plotly.v1+html": [
       "<script type=\"text/javascript\">window.PlotlyConfig = {MathJaxConfig: 'local'};</script><script type=\"text/javascript\">if (window.MathJax) {MathJax.Hub.Config({SVG: {font: \"STIX-Web\"}});}</script><script>requirejs.config({paths: { 'plotly': ['https://cdn.plot.ly/plotly-latest.min']},});if(!window._Plotly) {require(['plotly'],function(plotly) {window._Plotly=plotly;});}</script>"
      ]
     },
     "metadata": {},
     "output_type": "display_data"
    },
    {
     "data": {
      "text/html": [
       "\n",
       "        <script>\n",
       "            function code_toggle_5961083336080619037() {\n",
       "                $('div.cell.code_cell.rendered.selected').find('div.input').toggle();\n",
       "            }\n",
       "\n",
       "            \n",
       "        </script>\n",
       "\n",
       "        <a href=\"javascript:code_toggle_5961083336080619037()\">Click here to hide/show the current code cell</a>\n",
       "    "
      ],
      "text/plain": [
       "<IPython.core.display.HTML object>"
      ]
     },
     "execution_count": 1,
     "metadata": {},
     "output_type": "execute_result"
    }
   ],
   "source": [
    "%matplotlib inline\n",
    "\n",
    "from matplotlib import pyplot as plt\n",
    "from plotly.offline import init_notebook_mode\n",
    "init_notebook_mode(connected=True) # may trigger a deprecation warning \n",
    "\n",
    "import pandas as pd\n",
    "from itertools import product\n",
    "import json\n",
    "from prettytable import PrettyTable\n",
    "import time \n",
    "start_time = time.time()\n",
    "start_cpu = time.process_time()\n",
    "\n",
    "from sklearn.feature_extraction.text import TfidfVectorizer\n",
    "from nltk.stem import PorterStemmer, LancasterStemmer, SnowballStemmer\n",
    "import gensim\n",
    "import pyLDAvis\n",
    "import pyLDAvis.gensim\n",
    "pyLDAvis.enable_notebook()\n",
    "\n",
    "\n",
    "# local modules\n",
    "from helper.helper_funs import time_filename, save_folder_file, logged, RenderJSON\n",
    "from methods.LDAprep import GensimPrep, GenMod, Diagnostics, ModelResults, TM_Results, HeatMapLDA \n",
    "from helper.dk_ipython import toggled, one_cell_toggle\n",
    "\n",
    "one_cell_toggle()"
   ]
  },
  {
   "cell_type": "code",
   "execution_count": 2,
   "metadata": {},
   "outputs": [
    {
     "data": {
      "text/html": [
       "\n",
       "        <script>\n",
       "            function code_toggle_12749075915931925374() {\n",
       "                $('div.cell.code_cell.rendered.selected').find('div.input').toggle();\n",
       "            }\n",
       "\n",
       "            \n",
       "        </script>\n",
       "\n",
       "        <a href=\"javascript:code_toggle_12749075915931925374()\">Click here to hide/show the current code cell</a>\n",
       "    "
      ],
      "text/plain": [
       "<IPython.core.display.HTML object>"
      ]
     },
     "execution_count": 2,
     "metadata": {},
     "output_type": "execute_result"
    }
   ],
   "source": [
    "with open('changeable_parameters/tuning_params.json') as json_file:  \n",
    "    tune_params = json.load(json_file)\n",
    "    \n",
    "cleaned_data_path = 'data/processed_data/cleaned_data.json'     \n",
    "with open(cleaned_data_path) as json__data:  \n",
    "    all_data = json.load(json__data)     \n",
    "    \n",
    "one_cell_toggle()    "
   ]
  },
  {
   "cell_type": "markdown",
   "metadata": {},
   "source": [
    "### Fetch parameter data and data paths"
   ]
  },
  {
   "cell_type": "code",
   "execution_count": 3,
   "metadata": {},
   "outputs": [
    {
     "data": {
      "text/html": [
       "\n",
       "        <script>\n",
       "            function code_toggle_5311324071909073361() {\n",
       "                $('div.cell.code_cell.rendered.selected').find('div.input').toggle();\n",
       "            }\n",
       "\n",
       "            \n",
       "        </script>\n",
       "\n",
       "        <a href=\"javascript:code_toggle_5311324071909073361()\">Click here to hide/show the current code cell</a>\n",
       "    "
      ],
      "text/plain": [
       "<IPython.core.display.HTML object>"
      ]
     },
     "execution_count": 3,
     "metadata": {},
     "output_type": "execute_result"
    }
   ],
   "source": [
    "all_donnees = all_data['all_donnees']\n",
    "processed_data = all_data['processed_data']\n",
    "lda_table_path = all_data['generating_params']['lda_table_path']\n",
    "\n",
    "paramsLDA = tune_params['set_kwargs']\n",
    "kwargsLDA = paramsLDA['kwargsLDA']\n",
    "\n",
    "one_cell_toggle()"
   ]
  },
  {
   "cell_type": "markdown",
   "metadata": {},
   "source": [
    "<hr/>\n",
    "\n",
    "### Viewing Hand Tunable LDA parameters as specified on [tuning_params.json](changeable_parameters/tuning_params.json) file\n",
    "\n",
    "<hr/>\n",
    "\n",
    "<br/>\n",
    "\n",
    "**Clear definitions of each manually-tuned LDA parameters are available in the file, under the key `help_kwargsLDA`.** \n",
    "\n",
    "One can fetch individual definitions for reference, or all parameter details can be displayed as below:\n",
    "\n",
    "<br/>"
   ]
  },
  {
   "cell_type": "code",
   "execution_count": 4,
   "metadata": {},
   "outputs": [
    {
     "name": "stdout",
     "output_type": "stream",
     "text": [
      "+-----------------------------------------------------------------------------------------------------------------------------------------------------+\n",
      "|                                                            Hand tunable parameters - LDA                                                            |\n",
      "+---------------------+--------------------+----------------------------------------------------------------------------------------------------------+\n",
      "| Parameter           | Data Type          | Definition                                                                                               |\n",
      "+---------------------+--------------------+----------------------------------------------------------------------------------------------------------+\n",
      "| update_every        | int                | number of docs iterated through for each update - set to 0 for batch learning                            |\n",
      "|                     |                    |                                                                                                          |\n",
      "| passes              | int                | number of passes through corpus during training                                                          |\n",
      "|                     |                    |                                                                                                          |\n",
      "| iterations          | int                | max iterations through corpus when inferring topic distribution                                          |\n",
      "|                     |                    |                                                                                                          |\n",
      "| minimum_probability | float (0,1)        | min topic probability (discarded if under)                                                               |\n",
      "|                     |                    |                                                                                                          |\n",
      "| per_word_topics     | bool               | if True, also computes a list of topics, sorted in descending order of most likely topics for each word, |\n",
      "|                     |                    | also computes lower bound on expected word count in topic (phi*len(feature))                             |\n",
      "|                     |                    |                                                                                                          |\n",
      "| minimum_phi_value   | float (0,1)        | min per word probability (discarding if under). `per_word_topics` must be set to True                    |\n",
      "|                     |                    |                                                                                                          |\n",
      "| alpha               | float (0,1) or str | topic prob. prior, can set each topic prior individually.                                                |\n",
      "|                     |                    | str choices: ['auto': Empirical Bayes, 'asymmetric': 1/(topic_number)]                                   |\n",
      "|                     |                    |                                                                                                          |\n",
      "+---------------------+--------------------+----------------------------------------------------------------------------------------------------------+\n"
     ]
    },
    {
     "data": {
      "text/html": [
       "\n",
       "        <script>\n",
       "            function code_toggle_16942704311846305263() {\n",
       "                $('div.cell.code_cell.rendered.selected').find('div.input').toggle();\n",
       "            }\n",
       "\n",
       "            \n",
       "        </script>\n",
       "\n",
       "        <a href=\"javascript:code_toggle_16942704311846305263()\">Click here to hide/show the current code cell</a>\n",
       "    "
      ],
      "text/plain": [
       "<IPython.core.display.HTML object>"
      ]
     },
     "execution_count": 4,
     "metadata": {},
     "output_type": "execute_result"
    }
   ],
   "source": [
    "'''\n",
    "Note: if more info is needed about the tunable parameters, type help_kwargs... with the parameter number\n",
    "Example:\n",
    "'''\n",
    "x = PrettyTable()\n",
    "x.title = \"Hand tunable parameters - LDA\"\n",
    "fieldnames = [\"Parameter\", \"Data Type\", \"Definition\"]\n",
    "x.field_names = fieldnames\n",
    "\n",
    "for fname in fieldnames:    \n",
    "    x.align[fname] = \"l\" \n",
    "\n",
    "[x.add_row([key, val[0], val[1]]) for key, val in paramsLDA['help_kwargsLDA'].items()]\n",
    "\n",
    "print(x)\n",
    "\n",
    "one_cell_toggle()"
   ]
  },
  {
   "cell_type": "markdown",
   "metadata": {},
   "source": [
    "### Set Local Parameters: \n",
    "\n",
    "**Some parameters are specified locally.** These are the range of parameters to vary in the tuning to optimize the number of topics to declare. Here, we try all the parameter combinations for a number of topics from `start` to `max_num_topics`. For each number of topics tested, we ran all permutations of: \n",
    "\n",
    "   * priors on word probability, representing prior knowledge of the probability that word i is in topic j, with the sum of all topics for each word i equal to 1.\n",
    "\n",
    "   * decay, how much the weights (weights: word probability distribution over topics) of previous documents are 'forgotten' for each new document. Can be seen as priors on word probability (eta), for each document.   "
   ]
  },
  {
   "cell_type": "code",
   "execution_count": 5,
   "metadata": {},
   "outputs": [],
   "source": [
    "to_log = True               # set to True to get log files\n",
    "seed = all_data['generating_params']['seed']\n",
    "\n",
    "tfidf = False         # using tfidf transformation before LDA?\n",
    "eval_every = 5       # the smaller number, the more precise the convergence plot\n",
    "# Log perplexity (think log-likelihood) is estimated every `eval_every` updates. Set down from 5 to 1 slows training by ~2x .\n",
    "\n",
    "# tuning LDA for number of topics\n",
    "max_num_topics = 14       # highest number\n",
    "start = 4                 # lowest number\n",
    "step = 1                  # granularity of topic number testing\n",
    "etas = ['auto', 1e-3]           # prior on word probability ('auto' is Empirical Bayes, o/w scalar or vector)\n",
    "decays = [0.5, 0.7]       # learning memory decay, between (0.5, 1.0]\n"
   ]
  },
  {
   "cell_type": "code",
   "execution_count": 6,
   "metadata": {},
   "outputs": [],
   "source": [
    "if to_log:\n",
    "    full_path_log = logged(filename='LDA') # writes a log file, *necessary* to get convergence plot (perplexity or kl-div/elbo vs iter)"
   ]
  },
  {
   "cell_type": "markdown",
   "metadata": {},
   "source": [
    "<hr>\n",
    "\n",
    "## Preparation Before Running LDA (Latent Dirichlet Allocation) Model.\n",
    "\n",
    "**Additional cleaning**, creating the corpus and bag-of-words format, removing very common words. Saving the resulting corpus.\n",
    "\n",
    "**The gensim LDA algorithm:**\n",
    "\n",
    "   * **Is streamed:** training documents may come in sequentially, no random access required.\n",
    "\n",
    "   * **Runs in constant memory w.r.t. the number of documents:** size of the training corpus does not affect memory footprint, can process corpora larger than RAM.\n",
    "\n",
    "   * **Is distributed:** makes use of a cluster of machines, if available, to speed up model estimation."
   ]
  },
  {
   "cell_type": "markdown",
   "metadata": {},
   "source": [
    "<hr/>\n",
    "\n",
    "#### Making word -> number mappings, keeping track of count...\n",
    "\n",
    "Building vocabulary and corpus as bag-of-word matrix representation:"
   ]
  },
  {
   "cell_type": "code",
   "execution_count": 7,
   "metadata": {},
   "outputs": [
    {
     "name": "stdout",
     "output_type": "stream",
     "text": [
      "Removing words of less than 3 characters, and words present in at least 0.8% of documents\n",
      "\n",
      "Removing gaps in indices caused by preprocessing...\n",
      "\n",
      "Saving gensim dictionary to data/corpus_data/2019-2-25/Gensim_dict_Params_MWL3_PD0.8_18h35m2s.dict\n",
      "\n",
      "Saving .mm matrix to data/corpus_data/2019-2-25/BOWmat18h35m2s.mm\n",
      "\n",
      "Number of words processed: 40760\n",
      " \n",
      "Number of unique words remaining: 1775\n",
      "\n",
      "\n",
      "*************************************\n",
      "\n"
     ]
    },
    {
     "data": {
      "text/html": [
       "\n",
       "        <script>\n",
       "            function code_toggle_5464320860618272996() {\n",
       "                $('div.cell.code_cell.rendered.selected').find('div.input').toggle();\n",
       "            }\n",
       "\n",
       "            \n",
       "        </script>\n",
       "\n",
       "        <a href=\"javascript:code_toggle_5464320860618272996()\">Click here to hide/show the current code cell</a>\n",
       "    "
      ],
      "text/plain": [
       "<IPython.core.display.HTML object>"
      ]
     },
     "execution_count": 7,
     "metadata": {},
     "output_type": "execute_result"
    }
   ],
   "source": [
    "gp = GensimPrep(processed_data)\n",
    "\n",
    "# see method/LDAprep.py for complete parameter definitions\n",
    "lda_dict = gp.gensimDict(min_word_len=3,        # remove words smaller than min_word_len (should already be done in previous steps)\n",
    "                         prop_docs=0.8,         # max proportion of docs a word can appear before being removed\n",
    "                         save_dict=True,\n",
    "                         save_dir='data/corpus_data')\n",
    "\n",
    "unique_word_count = len(lda_dict)\n",
    "bow_rep = gp.gensimBOW(lda_dict)\n",
    "\n",
    "print('Number of words processed: {}\\n '.format(lda_dict.num_pos))\n",
    "print('Number of unique words remaining: {}\\n\\n'.format(unique_word_count))\n",
    "print('*'*37 + '\\n')\n",
    "\n",
    "one_cell_toggle()"
   ]
  },
  {
   "cell_type": "markdown",
   "metadata": {},
   "source": [
    "### Do Term Frequency - Inverse Document Frequency (TF-IDF) transformation if required\n",
    "\n",
    "This is done by by multiplying term frequency (local component) with inverse document frequency (global component), and possibly normalizing the resulting documents to unit length. It can be viewed as:\n",
    "\n",
    "$\\text{weight}_{i,j} = (\\text{word frequency}_{i,j} \\cdot \\text{log}_2(\\dfrac{number of docs}{\\text{word frequency in doc}_{i})$\n",
    "\n",
    "It is equivalent to the KL-Divergence between the distributions of the two components."
   ]
  },
  {
   "cell_type": "code",
   "execution_count": 8,
   "metadata": {},
   "outputs": [
    {
     "data": {
      "text/html": [
       "\n",
       "        <script>\n",
       "            function code_toggle_8285188258373799139() {\n",
       "                $('div.cell.code_cell.rendered.selected').find('div.input').toggle();\n",
       "            }\n",
       "\n",
       "            \n",
       "        </script>\n",
       "\n",
       "        <a href=\"javascript:code_toggle_8285188258373799139()\">Click here to hide/show the current code cell</a>\n",
       "    "
      ],
      "text/plain": [
       "<IPython.core.display.HTML object>"
      ]
     },
     "execution_count": 8,
     "metadata": {},
     "output_type": "execute_result"
    }
   ],
   "source": [
    "if tfidf:\n",
    "    bow_rep = gp.tfidf_trans(bow_rep, normalize=True)  # normalize to unit euclidean length \n",
    "\n",
    "one_cell_toggle()"
   ]
  },
  {
   "cell_type": "markdown",
   "metadata": {},
   "source": [
    "#### All the proper BOW matrices and vocabulary are saved in the folders specified above\n",
    "\n",
    "<hr/>"
   ]
  },
  {
   "cell_type": "markdown",
   "metadata": {},
   "source": [
    "<hr/> \n",
    "\n",
    "### LDA hyperparameter search\n",
    "\n",
    "Finding the ideal number of topics to set, and adjust other parameters as needed\n",
    "\n",
    "<hr/>"
   ]
  },
  {
   "cell_type": "code",
   "execution_count": 9,
   "metadata": {},
   "outputs": [
    {
     "data": {
      "text/html": [
       "\n",
       "        <script>\n",
       "            function code_toggle_4492378998025149669() {\n",
       "                $('div.cell.code_cell.rendered.selected').find('div.input').toggle();\n",
       "            }\n",
       "\n",
       "            \n",
       "        </script>\n",
       "\n",
       "        <a href=\"javascript:code_toggle_4492378998025149669()\">Click here to hide/show the current code cell</a>\n",
       "    "
      ],
      "text/plain": [
       "<IPython.core.display.HTML object>"
      ]
     },
     "execution_count": 9,
     "metadata": {},
     "output_type": "execute_result"
    }
   ],
   "source": [
    "diag = Diagnostics(lda_dict,\n",
    "                   bow_rep, \n",
    "                   processed_data)\n",
    "\n",
    "one_cell_toggle()"
   ]
  },
  {
   "cell_type": "code",
   "execution_count": 10,
   "metadata": {},
   "outputs": [
    {
     "name": "stdout",
     "output_type": "stream",
     "text": [
      "\n",
      "Testing topics 4 to 13 for:\n",
      "\n",
      "\n",
      " auto eta and 0.5 decay...\n",
      "\n",
      "\n",
      " auto eta and 0.7 decay...\n",
      "\n",
      "\n",
      " 0.001 eta and 0.5 decay...\n",
      "\n",
      "\n",
      " 0.001 eta and 0.7 decay...\n",
      "\n"
     ]
    }
   ],
   "source": [
    "model_list, res_df, res_dict = diag.compare_scores(max_num_topics = max_num_topics, \n",
    "                                                   start = start, \n",
    "                                                   step = step,\n",
    "                                                   etas = etas,\n",
    "                                                   decays = decays,   \n",
    "                                                   random_state = seed,\n",
    "                                                   eval_every = eval_every,\n",
    "                                                   **kwargsLDA)\n",
    "\n",
    "# see complete parameter explanation on the methods module `methods.lda_prep.py`"
   ]
  },
  {
   "cell_type": "code",
   "execution_count": 11,
   "metadata": {},
   "outputs": [
    {
     "data": {
      "image/png": "[encoded data removed]",
      "text/plain": [
       "<Figure size 1152x432 with 2 Axes>"
      ]
     },
     "metadata": {
      "needs_background": "light"
     },
     "output_type": "display_data"
    },
    {
     "data": {
      "text/plain": [
       "<Figure size 432x288 with 0 Axes>"
      ]
     },
     "metadata": {},
     "output_type": "display_data"
    }
   ],
   "source": [
    "diag.score_plot(tuning_df=res_df, \n",
    "                save_plot=True, \n",
    "                size=(16, 6))"
   ]
  },
  {
   "cell_type": "markdown",
   "metadata": {},
   "source": [
    "#### Displaying the first few results from the tuning process:"
   ]
  },
  {
   "cell_type": "code",
   "execution_count": 12,
   "metadata": {},
   "outputs": [
    {
     "data": {
      "text/html": [
       "<div>\n",
       "<style scoped>\n",
       "    .dataframe tbody tr th:only-of-type {\n",
       "        vertical-align: middle;\n",
       "    }\n",
       "\n",
       "    .dataframe tbody tr th {\n",
       "        vertical-align: top;\n",
       "    }\n",
       "\n",
       "    .dataframe thead th {\n",
       "        text-align: right;\n",
       "    }\n",
       "</style>\n",
       "<table border=\"1\" class=\"dataframe\">\n",
       "  <thead>\n",
       "    <tr style=\"text-align: right;\">\n",
       "      <th></th>\n",
       "      <th>eta</th>\n",
       "      <th>decay</th>\n",
       "      <th>topic_num</th>\n",
       "      <th>coherence</th>\n",
       "      <th>perplexity</th>\n",
       "    </tr>\n",
       "  </thead>\n",
       "  <tbody>\n",
       "    <tr>\n",
       "      <th>0</th>\n",
       "      <td>auto</td>\n",
       "      <td>0.5</td>\n",
       "      <td>4</td>\n",
       "      <td>-6.747143</td>\n",
       "      <td>0.309259</td>\n",
       "    </tr>\n",
       "    <tr>\n",
       "      <th>1</th>\n",
       "      <td>auto</td>\n",
       "      <td>0.5</td>\n",
       "      <td>5</td>\n",
       "      <td>-6.773666</td>\n",
       "      <td>0.286334</td>\n",
       "    </tr>\n",
       "    <tr>\n",
       "      <th>2</th>\n",
       "      <td>auto</td>\n",
       "      <td>0.5</td>\n",
       "      <td>6</td>\n",
       "      <td>-6.796538</td>\n",
       "      <td>0.280279</td>\n",
       "    </tr>\n",
       "    <tr>\n",
       "      <th>3</th>\n",
       "      <td>auto</td>\n",
       "      <td>0.5</td>\n",
       "      <td>7</td>\n",
       "      <td>-6.808235</td>\n",
       "      <td>0.292488</td>\n",
       "    </tr>\n",
       "    <tr>\n",
       "      <th>4</th>\n",
       "      <td>auto</td>\n",
       "      <td>0.5</td>\n",
       "      <td>8</td>\n",
       "      <td>-6.829494</td>\n",
       "      <td>0.299310</td>\n",
       "    </tr>\n",
       "    <tr>\n",
       "      <th>5</th>\n",
       "      <td>auto</td>\n",
       "      <td>0.5</td>\n",
       "      <td>9</td>\n",
       "      <td>-6.842508</td>\n",
       "      <td>0.286075</td>\n",
       "    </tr>\n",
       "    <tr>\n",
       "      <th>6</th>\n",
       "      <td>auto</td>\n",
       "      <td>0.5</td>\n",
       "      <td>10</td>\n",
       "      <td>-6.863735</td>\n",
       "      <td>0.287371</td>\n",
       "    </tr>\n",
       "    <tr>\n",
       "      <th>7</th>\n",
       "      <td>auto</td>\n",
       "      <td>0.5</td>\n",
       "      <td>11</td>\n",
       "      <td>-6.872228</td>\n",
       "      <td>0.297781</td>\n",
       "    </tr>\n",
       "    <tr>\n",
       "      <th>8</th>\n",
       "      <td>auto</td>\n",
       "      <td>0.5</td>\n",
       "      <td>12</td>\n",
       "      <td>-6.898547</td>\n",
       "      <td>0.278431</td>\n",
       "    </tr>\n",
       "    <tr>\n",
       "      <th>9</th>\n",
       "      <td>auto</td>\n",
       "      <td>0.5</td>\n",
       "      <td>13</td>\n",
       "      <td>-6.900450</td>\n",
       "      <td>0.286265</td>\n",
       "    </tr>\n",
       "    <tr>\n",
       "      <th>10</th>\n",
       "      <td>auto</td>\n",
       "      <td>0.7</td>\n",
       "      <td>4</td>\n",
       "      <td>-6.744152</td>\n",
       "      <td>0.313156</td>\n",
       "    </tr>\n",
       "    <tr>\n",
       "      <th>11</th>\n",
       "      <td>auto</td>\n",
       "      <td>0.7</td>\n",
       "      <td>5</td>\n",
       "      <td>-6.771159</td>\n",
       "      <td>0.297766</td>\n",
       "    </tr>\n",
       "  </tbody>\n",
       "</table>\n",
       "</div>"
      ],
      "text/plain": [
       "     eta  decay  topic_num  coherence  perplexity\n",
       "0   auto    0.5          4  -6.747143    0.309259\n",
       "1   auto    0.5          5  -6.773666    0.286334\n",
       "2   auto    0.5          6  -6.796538    0.280279\n",
       "3   auto    0.5          7  -6.808235    0.292488\n",
       "4   auto    0.5          8  -6.829494    0.299310\n",
       "5   auto    0.5          9  -6.842508    0.286075\n",
       "6   auto    0.5         10  -6.863735    0.287371\n",
       "7   auto    0.5         11  -6.872228    0.297781\n",
       "8   auto    0.5         12  -6.898547    0.278431\n",
       "9   auto    0.5         13  -6.900450    0.286265\n",
       "10  auto    0.7          4  -6.744152    0.313156\n",
       "11  auto    0.7          5  -6.771159    0.297766"
      ]
     },
     "execution_count": 12,
     "metadata": {},
     "output_type": "execute_result"
    }
   ],
   "source": [
    "# diag.print_scores(res_dict) # can use print_scores method for different display\n",
    "res_df.head(12)"
   ]
  },
  {
   "cell_type": "markdown",
   "metadata": {},
   "source": [
    "### Alternatively, we can use tmtoolkit to test with different validation metrics \n",
    "\n",
    "In many cases with the community art center dataset, the measures of distance are all over the place and not consistent with one another, which is worrisome.\n",
    "\n",
    "The measures plotted here are:\n",
    "\n",
    "   * Pair-wise cosine distance method ([Cao et al 2009](https://www.sciencedirect.com/science/article/pii/S092523120800372X?via%3Dihub))\n",
    "   \n",
    "   * Perplexity ([Arun et al 2010](https://link.springer.com/chapter/10.1007%2F978-3-642-13657-3_43))\n",
    "   \n",
    "   * [Model Coherence](https://radimrehurek.com/gensim/models/coherencemodel.html)\n",
    "   \n",
    "   * Alternative Model Coherence ([Mimno et al 2011](https://dl.acm.org/citation.cfm?id=2145462))"
   ]
  },
  {
   "cell_type": "code",
   "execution_count": 13,
   "metadata": {},
   "outputs": [
    {
     "name": "stdout",
     "output_type": "stream",
     "text": [
      "evaluating 10 topic models\n"
     ]
    },
    {
     "data": {
      "image/png": "[encoded data removed]",
      "text/plain": [
       "<Figure size 720x2160 with 4 Axes>"
      ]
     },
     "metadata": {
      "needs_background": "light"
     },
     "output_type": "display_data"
    }
   ],
   "source": [
    "# evaluate topic models with different parameters\n",
    "const_params = dict(update_every=0, passes=10, random_state=seed,\n",
    "                    iterations=1000, minimum_probability=0.01, minimum_phi_value=0.02)\n",
    "\n",
    "ks = list(range(4, 14, 1))\n",
    "\n",
    "tops = {'num_topics': ks, 'alpha':[1/4.0], 'decay':[0.7]}\n",
    "\n",
    "varying_params = [dict(zip(tops, v)) for v in product(*tops.values())]\n",
    "\n",
    "tmtool_diag = diag.toolkit_cv_plot(varying_params, const_params, size=(10, 30)) \n",
    "\n"
   ]
  },
  {
   "cell_type": "markdown",
   "metadata": {},
   "source": [
    "<hr/>\n",
    "\n",
    "### See results for optimal model:\n",
    "\n",
    "<hr/>"
   ]
  },
  {
   "cell_type": "code",
   "execution_count": 14,
   "metadata": {},
   "outputs": [
    {
     "name": "stdout",
     "output_type": "stream",
     "text": [
      "Topic: 1 \n",
      "Words: \n",
      "0.019*\"creativ\" + 0.017*\"cultur\" + 0.013*\"develop\" + 0.012*\"program\" + 0.011*\"project\" + 0.011*\"public\" + 0.011*\"social\" + 0.011*\"organ\" + 0.010*\"work\" + 0.007*\"perform\"\n",
      "\n",
      "Topic: 2 \n",
      "Words: \n",
      "0.018*\"program\" + 0.016*\"youth\" + 0.013*\"work\" + 0.009*\"provid\" + 0.009*\"cultur\" + 0.008*\"workshop\" + 0.008*\"theatr\" + 0.008*\"develop\" + 0.008*\"commun\" + 0.008*\"educ\"\n",
      "\n",
      "Topic: 3 \n",
      "Words: \n",
      "0.023*\"program\" + 0.011*\"work\" + 0.010*\"project\" + 0.010*\"support\" + 0.008*\"provid\" + 0.008*\"theatr\" + 0.008*\"educ\" + 0.007*\"mural\" + 0.007*\"member\" + 0.007*\"public\"\n",
      "\n",
      "Topic: 4 \n",
      "Words: \n",
      "0.015*\"creat\" + 0.014*\"work\" + 0.013*\"theatr\" + 0.011*\"space\" + 0.011*\"cultur\" + 0.010*\"public\" + 0.010*\"creativ\" + 0.009*\"perform\" + 0.009*\"social\" + 0.008*\"project\"\n",
      "\n"
     ]
    },
    {
     "data": {
      "text/html": [
       "\n",
       "        <script>\n",
       "            function code_toggle_4196384340580336829() {\n",
       "                $('div.cell.code_cell.rendered.selected').find('div.input').toggle();\n",
       "            }\n",
       "\n",
       "            \n",
       "        </script>\n",
       "\n",
       "        <a href=\"javascript:code_toggle_4196384340580336829()\">Click here to hide/show the current code cell</a>\n",
       "    "
      ],
      "text/plain": [
       "<IPython.core.display.HTML object>"
      ]
     },
     "execution_count": 14,
     "metadata": {},
     "output_type": "execute_result"
    }
   ],
   "source": [
    "# get int index of best model in terms of coherence\n",
    "max_idx = res_df[res_df['coherence'] == max(res_df['coherence'])].index.item()\n",
    "\n",
    "n_clusters = res_df['topic_num'].iloc[max_idx]\n",
    "\n",
    "# Select the model and print the topics\n",
    "optimal_model = model_list[max_idx]\n",
    "\n",
    "diag.print_model(optimal_model)\n",
    "\n",
    "one_cell_toggle()"
   ]
  },
  {
   "cell_type": "markdown",
   "metadata": {},
   "source": [
    "## Results: diagnostic plots and summary tables"
   ]
  },
  {
   "cell_type": "markdown",
   "metadata": {},
   "source": [
    "## Tables with Topic Modeling Summary\n",
    "\n",
    "Tables showing the distribution of words within topics and distribution of topics within documents (1 document = all texts from 1 organization)\n"
   ]
  },
  {
   "cell_type": "markdown",
   "metadata": {},
   "source": [
    "<hr>\n",
    "\n",
    "### Table 1: Show Most Important Topic in each Document.\n",
    "\n",
    "Displays the topic number that contributes most to document (in terms of marginal probability). Very high probability (close to 1) indicates that the topics are apparently easily distinguished from one another. \n",
    "\n",
    "Only a few documents are displayed below, but all organizations with non-empty text are gathered in this table."
   ]
  },
  {
   "cell_type": "code",
   "execution_count": 15,
   "metadata": {},
   "outputs": [
    {
     "name": "stdout",
     "output_type": "stream",
     "text": [
      "Saving the table to: results/2019-2-25/dominant_topic_per_text_19h4m30s.csv\n"
     ]
    },
    {
     "data": {
      "text/html": [
       "\n",
       "        <script>\n",
       "            function code_toggle_6649946467275697174() {\n",
       "                $('div.cell.code_cell.rendered.selected').find('div.input').toggle();\n",
       "            }\n",
       "\n",
       "            \n",
       "        </script>\n",
       "\n",
       "        <a href=\"javascript:code_toggle_6649946467275697174()\">Click here to hide/show the current code cell</a>\n",
       "    "
      ],
      "text/plain": [
       "<IPython.core.display.HTML object>"
      ]
     },
     "execution_count": 15,
     "metadata": {},
     "output_type": "execute_result"
    }
   ],
   "source": [
    "mod_res = ModelResults(optimal_model, bow_rep, all_donnees)\n",
    "\n",
    "df_dominant_topic = mod_res.format_topics_sentences()\n",
    "\n",
    "small_dom_topic = pd.concat([df_dominant_topic.Dominant_Topic.astype(int), \n",
    "                             df_dominant_topic.Percent_Contribution, \n",
    "                             df_dominant_topic.Important_Keywords,\n",
    "                             df_dominant_topic.Mission], axis = 1)\n",
    "\n",
    "small_dom_topic.columns = ['Dominant_Topic', 'Percent_Contribution', 'Important_Keywords', 'Mission']\n",
    "one_cell_toggle()"
   ]
  },
  {
   "cell_type": "code",
   "execution_count": 16,
   "metadata": {},
   "outputs": [
    {
     "data": {
      "text/html": [
       "<div>\n",
       "<style scoped>\n",
       "    .dataframe tbody tr th:only-of-type {\n",
       "        vertical-align: middle;\n",
       "    }\n",
       "\n",
       "    .dataframe tbody tr th {\n",
       "        vertical-align: top;\n",
       "    }\n",
       "\n",
       "    .dataframe thead th {\n",
       "        text-align: right;\n",
       "    }\n",
       "</style>\n",
       "<table border=\"1\" class=\"dataframe\">\n",
       "  <thead>\n",
       "    <tr style=\"text-align: right;\">\n",
       "      <th></th>\n",
       "      <th>Dominant_Topic</th>\n",
       "      <th>Percent_Contribution</th>\n",
       "      <th>Important_Keywords</th>\n",
       "      <th>Mission</th>\n",
       "    </tr>\n",
       "  </thead>\n",
       "  <tbody>\n",
       "    <tr>\n",
       "      <th>0</th>\n",
       "      <td>2</td>\n",
       "      <td>0.8201</td>\n",
       "      <td>program, youth, work, provid, cultur, workshop...</td>\n",
       "      <td>our goal is to have the space become self-sust...</td>\n",
       "    </tr>\n",
       "    <tr>\n",
       "      <th>1</th>\n",
       "      <td>4</td>\n",
       "      <td>0.9984</td>\n",
       "      <td>creat, work, theatr, space, cultur, public, cr...</td>\n",
       "      <td>white water gallery is a non-profit artist-run...</td>\n",
       "    </tr>\n",
       "    <tr>\n",
       "      <th>2</th>\n",
       "      <td>3</td>\n",
       "      <td>0.9941</td>\n",
       "      <td>program, work, project, support, provid, theat...</td>\n",
       "      <td>women sweetgrass film festival  we provide opp...</td>\n",
       "    </tr>\n",
       "    <tr>\n",
       "      <th>3</th>\n",
       "      <td>2</td>\n",
       "      <td>0.9992</td>\n",
       "      <td>program, youth, work, provid, cultur, workshop...</td>\n",
       "      <td>in development to provide appropriate and aff...</td>\n",
       "    </tr>\n",
       "    <tr>\n",
       "      <th>4</th>\n",
       "      <td>4</td>\n",
       "      <td>0.9926</td>\n",
       "      <td>creat, work, theatr, space, cultur, public, cr...</td>\n",
       "      <td>to create original physical theatre to share o...</td>\n",
       "    </tr>\n",
       "    <tr>\n",
       "      <th>5</th>\n",
       "      <td>2</td>\n",
       "      <td>0.9996</td>\n",
       "      <td>program, youth, work, provid, cultur, workshop...</td>\n",
       "      <td>the woodland cultural centre is a first nation...</td>\n",
       "    </tr>\n",
       "    <tr>\n",
       "      <th>6</th>\n",
       "      <td>3</td>\n",
       "      <td>0.9796</td>\n",
       "      <td>program, work, project, support, provid, theat...</td>\n",
       "      <td>all disciplines artists with mental health and...</td>\n",
       "    </tr>\n",
       "    <tr>\n",
       "      <th>7</th>\n",
       "      <td>4</td>\n",
       "      <td>0.9944</td>\n",
       "      <td>creat, work, theatr, space, cultur, public, cr...</td>\n",
       "      <td>to provide an open and supportive environment ...</td>\n",
       "    </tr>\n",
       "    <tr>\n",
       "      <th>8</th>\n",
       "      <td>2</td>\n",
       "      <td>0.7825</td>\n",
       "      <td>program, youth, work, provid, cultur, workshop...</td>\n",
       "      <td>the mandate of the foundation is to build conn...</td>\n",
       "    </tr>\n",
       "    <tr>\n",
       "      <th>9</th>\n",
       "      <td>1</td>\n",
       "      <td>0.7605</td>\n",
       "      <td>creativ, cultur, develop, program, project, pu...</td>\n",
       "      <td>living arts is a multi-disciplinary cross-cul...</td>\n",
       "    </tr>\n",
       "  </tbody>\n",
       "</table>\n",
       "</div>"
      ],
      "text/plain": [
       "   Dominant_Topic  Percent_Contribution  \\\n",
       "0               2                0.8201   \n",
       "1               4                0.9984   \n",
       "2               3                0.9941   \n",
       "3               2                0.9992   \n",
       "4               4                0.9926   \n",
       "5               2                0.9996   \n",
       "6               3                0.9796   \n",
       "7               4                0.9944   \n",
       "8               2                0.7825   \n",
       "9               1                0.7605   \n",
       "\n",
       "                                  Important_Keywords  \\\n",
       "0  program, youth, work, provid, cultur, workshop...   \n",
       "1  creat, work, theatr, space, cultur, public, cr...   \n",
       "2  program, work, project, support, provid, theat...   \n",
       "3  program, youth, work, provid, cultur, workshop...   \n",
       "4  creat, work, theatr, space, cultur, public, cr...   \n",
       "5  program, youth, work, provid, cultur, workshop...   \n",
       "6  program, work, project, support, provid, theat...   \n",
       "7  creat, work, theatr, space, cultur, public, cr...   \n",
       "8  program, youth, work, provid, cultur, workshop...   \n",
       "9  creativ, cultur, develop, program, project, pu...   \n",
       "\n",
       "                                             Mission  \n",
       "0  our goal is to have the space become self-sust...  \n",
       "1  white water gallery is a non-profit artist-run...  \n",
       "2  women sweetgrass film festival  we provide opp...  \n",
       "3   in development to provide appropriate and aff...  \n",
       "4  to create original physical theatre to share o...  \n",
       "5  the woodland cultural centre is a first nation...  \n",
       "6  all disciplines artists with mental health and...  \n",
       "7  to provide an open and supportive environment ...  \n",
       "8  the mandate of the foundation is to build conn...  \n",
       "9   living arts is a multi-disciplinary cross-cul...  "
      ]
     },
     "execution_count": 16,
     "metadata": {},
     "output_type": "execute_result"
    }
   ],
   "source": [
    "small_dom_topic.head(10)"
   ]
  },
  {
   "cell_type": "markdown",
   "metadata": {},
   "source": [
    "<hr>\n",
    "\n",
    "### Table 2: Most Important Document/Text for each Topic\n",
    "\n",
    "These are the documents that were most clealy classified into a given topic."
   ]
  },
  {
   "cell_type": "code",
   "execution_count": 17,
   "metadata": {},
   "outputs": [
    {
     "name": "stdout",
     "output_type": "stream",
     "text": [
      "Saving the table to: results/2019-2-25/top_texts_per_topic19h4m30s.csv\n"
     ]
    },
    {
     "data": {
      "text/html": [
       "\n",
       "        <script>\n",
       "            function code_toggle_4835905061902692635() {\n",
       "                $('div.cell.code_cell.rendered.selected').find('div.input').toggle();\n",
       "            }\n",
       "\n",
       "            \n",
       "        </script>\n",
       "\n",
       "        <a href=\"javascript:code_toggle_4835905061902692635()\">Click here to hide/show the current code cell</a>\n",
       "    "
      ],
      "text/plain": [
       "<IPython.core.display.HTML object>"
      ]
     },
     "execution_count": 17,
     "metadata": {},
     "output_type": "execute_result"
    }
   ],
   "source": [
    "tab_idx = mod_res.top_texts_per_topic(df_dominant_topic)\n",
    "tab_idx.to_csv(lda_table_path)\n",
    "\n",
    "tab = pd.concat([tab_idx.Dominant_Topic.astype(int), \n",
    "                             tab_idx.Percent_Contribution, \n",
    "                             tab_idx.Important_Keywords,\n",
    "                             tab_idx.Mission], axis = 1)\n",
    "\n",
    "tab.columns = ['Dominant_Topic', 'Percent_Contribution', 'Important_Keywords', 'Mission']\n",
    "one_cell_toggle()"
   ]
  },
  {
   "cell_type": "code",
   "execution_count": 18,
   "metadata": {},
   "outputs": [
    {
     "data": {
      "text/html": [
       "<div>\n",
       "<style scoped>\n",
       "    .dataframe tbody tr th:only-of-type {\n",
       "        vertical-align: middle;\n",
       "    }\n",
       "\n",
       "    .dataframe tbody tr th {\n",
       "        vertical-align: top;\n",
       "    }\n",
       "\n",
       "    .dataframe thead th {\n",
       "        text-align: right;\n",
       "    }\n",
       "</style>\n",
       "<table border=\"1\" class=\"dataframe\">\n",
       "  <thead>\n",
       "    <tr style=\"text-align: right;\">\n",
       "      <th></th>\n",
       "      <th>Dominant_Topic</th>\n",
       "      <th>Percent_Contribution</th>\n",
       "      <th>Important_Keywords</th>\n",
       "      <th>Mission</th>\n",
       "    </tr>\n",
       "  </thead>\n",
       "  <tbody>\n",
       "    <tr>\n",
       "      <th>0</th>\n",
       "      <td>1</td>\n",
       "      <td>0.9998</td>\n",
       "      <td>creativ, cultur, develop, program, project, pu...</td>\n",
       "      <td>through august the community of jackson hole w...</td>\n",
       "    </tr>\n",
       "    <tr>\n",
       "      <th>1</th>\n",
       "      <td>2</td>\n",
       "      <td>0.9999</td>\n",
       "      <td>program, youth, work, provid, cultur, workshop...</td>\n",
       "      <td>allied arts is oklahomas only united arts fund...</td>\n",
       "    </tr>\n",
       "    <tr>\n",
       "      <th>2</th>\n",
       "      <td>3</td>\n",
       "      <td>0.9996</td>\n",
       "      <td>program, work, project, support, provid, theat...</td>\n",
       "      <td>theater company outreach has launched heroes s...</td>\n",
       "    </tr>\n",
       "    <tr>\n",
       "      <th>3</th>\n",
       "      <td>4</td>\n",
       "      <td>0.9994</td>\n",
       "      <td>creat, work, theatr, space, cultur, public, cr...</td>\n",
       "      <td>artistic mission and profile of the organizati...</td>\n",
       "    </tr>\n",
       "  </tbody>\n",
       "</table>\n",
       "</div>"
      ],
      "text/plain": [
       "   Dominant_Topic  Percent_Contribution  \\\n",
       "0               1                0.9998   \n",
       "1               2                0.9999   \n",
       "2               3                0.9996   \n",
       "3               4                0.9994   \n",
       "\n",
       "                                  Important_Keywords  \\\n",
       "0  creativ, cultur, develop, program, project, pu...   \n",
       "1  program, youth, work, provid, cultur, workshop...   \n",
       "2  program, work, project, support, provid, theat...   \n",
       "3  creat, work, theatr, space, cultur, public, cr...   \n",
       "\n",
       "                                             Mission  \n",
       "0  through august the community of jackson hole w...  \n",
       "1  allied arts is oklahomas only united arts fund...  \n",
       "2  theater company outreach has launched heroes s...  \n",
       "3  artistic mission and profile of the organizati...  "
      ]
     },
     "execution_count": 18,
     "metadata": {},
     "output_type": "execute_result"
    }
   ],
   "source": [
    "tab"
   ]
  },
  {
   "cell_type": "code",
   "execution_count": 19,
   "metadata": {},
   "outputs": [
    {
     "name": "stdout",
     "output_type": "stream",
     "text": [
      "Top entry for topic 3 (with 0.9996 contribution): \n",
      "theater company outreach has launched heroes stories programming for war veterans to honor and empower our country s brave service members in partnership with new directions at its local veterans affairs office the program gives vets a safe outlet to voice their own heroic experiences and stories stands for create reflect and empower and the organization uses theatre to enhance self esteem encourage self expression and empower individuals to overcome the challenges in their lives next up for is a groundbreaking musical called beyond sight which tells the story of u s soldier jack carter whose life is forever changed when he is blinded during combat in afghanistan upon his return he is forced to face the challenges of reintegrating back into society without his vision beyond sight is so much more than a musical it is a project that hopes will raise awareness about the struggles of our nations service members and garner support for these brave men and women as they return to civilian life according to the bureau of labor statistics there are more than million soldiers who have served in the iraq and afghanistan wars one out of four of these soldiers returns with a service related disability in addition to physical injuries many veterans also suffer from emotional and psychological conditions including post traumatic stress disorder guilt and depression far too often these individuals dont receive adequate care and support to address these issues beyond sight is an empowering story of hope and courage meant to prove that these individuals are not defined by their disabilities and can live successful and fulfilling lives development for beyond sight began three years ago when c r e outreachs acting troupe theatre by the blind in partnership with the braille institute of los angeles presented a production focused on the challenges of disabilities in military families then in june outreach brought another production which direction to a stage at the veterans affairs office in los angelesan original production that depicts the amazing untold stories of a group of military veterans their stories and real accounts of war on the front lines inspired to begin production on beyond sight subsequent interviews with veterans lead to a script that realistically portrays military lives and experiences in authentic detail one of the keys to authenticity for this new production will be beyond sights casting of military veterans and blind actors in key roles the show will premiere in los angeles in spring however after the premiere outreach hopes to have beyond sight tour the nation spreading this important message to everyone one of the vets that c r e works with summarizes why projects like beyond sight are so significant the last years have taken a toll on all of us for some the scars are obvious and for others they are hidden but still there all of us come back changed some of us more than others i think this project is great because it will help remind people that these changes are lifelong my biggest fear is that as the war ends in the next year and the american public s attention moves to something else the numerous vet support efforts that have sprung up will die and soldiers like jack will be forgotten projects like this can help people to remember\n",
      "\n"
     ]
    }
   ],
   "source": [
    "# Show most relevant text for each topic\n",
    "\n",
    "mod_res.print_top_sentences_for_topic(tab, topic_num=2)"
   ]
  },
  {
   "cell_type": "code",
   "execution_count": 20,
   "metadata": {},
   "outputs": [
    {
     "name": "stdout",
     "output_type": "stream",
     "text": [
      "Topic: 1\n",
      "\tWord,\t Weight\n",
      "\t----     -----------\n",
      "\n",
      "\t\"creativ\":  0.019\n",
      "\t\"cultur\":  0.017\n",
      "\t\"develop\":  0.013\n",
      "\t\"program\":  0.012\n",
      "\t\"project\":  0.011\n",
      "\t--------------------\n",
      "\n",
      "Topic: 2\n",
      "\tWord,\t Weight\n",
      "\t----     -----------\n",
      "\n",
      "\t\"program\":  0.018\n",
      "\t\"youth\":  0.016\n",
      "\t\"work\":  0.013\n",
      "\t\"provid\":  0.009\n",
      "\t\"cultur\":  0.009\n",
      "\t--------------------\n",
      "\n",
      "Topic: 3\n",
      "\tWord,\t Weight\n",
      "\t----     -----------\n",
      "\n",
      "\t\"program\":  0.023\n",
      "\t\"work\":  0.011\n",
      "\t\"project\":  0.01\n",
      "\t\"support\":  0.01\n",
      "\t\"provid\":  0.008\n",
      "\t--------------------\n",
      "\n",
      "Topic: 4\n",
      "\tWord,\t Weight\n",
      "\t----     -----------\n",
      "\n",
      "\t\"creat\":  0.015\n",
      "\t\"work\":  0.014\n",
      "\t\"theatr\":  0.013\n",
      "\t\"space\":  0.011\n",
      "\t\"cultur\":  0.011\n",
      "\t--------------------\n",
      "\n"
     ]
    }
   ],
   "source": [
    "mod_res.per_word_contrib(num_words=5)"
   ]
  },
  {
   "cell_type": "markdown",
   "metadata": {},
   "source": [
    "### Table 3: How documents are distributed between topics"
   ]
  },
  {
   "cell_type": "code",
   "execution_count": 21,
   "metadata": {},
   "outputs": [
    {
     "name": "stdout",
     "output_type": "stream",
     "text": [
      "Saving the table to: results/2019-2-25/doc_distribution_in_topics19h4m31s.csv\n"
     ]
    },
    {
     "data": {
      "text/html": [
       "<div>\n",
       "<style scoped>\n",
       "    .dataframe tbody tr th:only-of-type {\n",
       "        vertical-align: middle;\n",
       "    }\n",
       "\n",
       "    .dataframe tbody tr th {\n",
       "        vertical-align: top;\n",
       "    }\n",
       "\n",
       "    .dataframe thead th {\n",
       "        text-align: right;\n",
       "    }\n",
       "</style>\n",
       "<table border=\"1\" class=\"dataframe\">\n",
       "  <thead>\n",
       "    <tr style=\"text-align: right;\">\n",
       "      <th></th>\n",
       "      <th>Dominant_Topic</th>\n",
       "      <th>Important_Keywords</th>\n",
       "      <th>Num_Documents</th>\n",
       "      <th>Perc_Documents</th>\n",
       "    </tr>\n",
       "  </thead>\n",
       "  <tbody>\n",
       "    <tr>\n",
       "      <th>0</th>\n",
       "      <td>1</td>\n",
       "      <td>creativ, cultur, develop, program, project, pu...</td>\n",
       "      <td>153</td>\n",
       "      <td>0.19590</td>\n",
       "    </tr>\n",
       "    <tr>\n",
       "      <th>1</th>\n",
       "      <td>2</td>\n",
       "      <td>program, youth, work, provid, cultur, workshop...</td>\n",
       "      <td>367</td>\n",
       "      <td>0.46991</td>\n",
       "    </tr>\n",
       "    <tr>\n",
       "      <th>2</th>\n",
       "      <td>3</td>\n",
       "      <td>program, work, project, support, provid, theat...</td>\n",
       "      <td>72</td>\n",
       "      <td>0.09219</td>\n",
       "    </tr>\n",
       "    <tr>\n",
       "      <th>3</th>\n",
       "      <td>4</td>\n",
       "      <td>creat, work, theatr, space, cultur, public, cr...</td>\n",
       "      <td>189</td>\n",
       "      <td>0.24200</td>\n",
       "    </tr>\n",
       "  </tbody>\n",
       "</table>\n",
       "</div>"
      ],
      "text/plain": [
       "   Dominant_Topic                                 Important_Keywords  \\\n",
       "0               1  creativ, cultur, develop, program, project, pu...   \n",
       "1               2  program, youth, work, provid, cultur, workshop...   \n",
       "2               3  program, work, project, support, provid, theat...   \n",
       "3               4  creat, work, theatr, space, cultur, public, cr...   \n",
       "\n",
       "   Num_Documents  Perc_Documents  \n",
       "0            153         0.19590  \n",
       "1            367         0.46991  \n",
       "2             72         0.09219  \n",
       "3            189         0.24200  "
      ]
     },
     "execution_count": 21,
     "metadata": {},
     "output_type": "execute_result"
    }
   ],
   "source": [
    "mod_res.topic_distribution(df_dominant_topic, tab)"
   ]
  },
  {
   "cell_type": "markdown",
   "metadata": {},
   "source": [
    "## Relevance and Distinctiveness\n",
    "\n",
    "The results above, using a naive coherence measure for tuning, are underwhelming.\n",
    "\n",
    "Here are some results using:\n",
    "\n",
    "### Relevance score [Sievert and Shirley 2014](http://www.aclweb.org/anthology/W14-3110)\n",
    "\n",
    "\n",
    "Used to determine the \"importance\" for words of the corpus for a given topic (not the whole corpus). Very frequent but unspecific words will be ranked lower than more specific but less frequent words. Weight parameter $\\lambda$ defines the influence of a word's lift within a topic (the ratio of a term's probability within a topic to its marginal probability across the whole corpus). Setting $\\lambda=1$ means no influence of the lift quantity and results in the same ranking as given by the topic-word distribution. $\\lambda=0$ only uses lift for the ranking.\n",
    "\n",
    "Please note that the $\\lambda$ parameter of the relevance score functions in tmtoolkit can be set with lambda_=.... The underscore is important to avoid making an anonymous function.\n",
    "\n",
    "Calculate the relevance score from the model using a specific value of $\\lambda$. The result is a $N \\times M$ matrix with $N$ being the number of topics and $M$ being the size of the vocabulary.\n",
    "\n",
    "<hr/>\n",
    "\n",
    "### Also using:\n",
    "\n",
    "### Distinctiveness and saliency [Chuang et al 2012](https://dl.acm.org/citation.cfm?id=2254572)\n",
    "Used to reflect some kind of \"importance\" of word for the whole corpus. Very often occurring but very general words will be ranked lower, whereas more specific but less often occuring words will be ranked higher.\n",
    "\n",
    "Calculation of the word distinctiveness score for the whole vocabulary in the corpus.\n",
    "\n",
    "<hr/>\n",
    "\n",
    "**Measure descriptions can be found [here](https://github.com/WZBSocialScienceCenter/tmtoolkit/blob/master/examples/word_and_topic_scores.ipynb)**\n",
    "\n",
    "<hr/>\n",
    "\n",
    "\n",
    "#### View `lda_prep.py` file to see more diagnostic measures and plots"
   ]
  },
  {
   "cell_type": "code",
   "execution_count": 22,
   "metadata": {},
   "outputs": [
    {
     "name": "stdout",
     "output_type": "stream",
     "text": [
      "\n",
      "- 4 topics learnt from 781 documents with vocabulary size of 1775 unique words.\n",
      "\n",
      "\n",
      "Marginal topic distribution Pr(Topic):\n",
      "[0.19070579 0.5227141  0.09265965 0.19392046]\n"
     ]
    },
    {
     "data": {
      "text/html": [
       "\n",
       "        <script>\n",
       "            function code_toggle_14115980204995481284() {\n",
       "                $('div.cell.code_cell.rendered.selected').find('div.input').toggle();\n",
       "            }\n",
       "\n",
       "            \n",
       "        </script>\n",
       "\n",
       "        <a href=\"javascript:code_toggle_14115980204995481284()\">Click here to hide/show the current code cell</a>\n",
       "    "
      ],
      "text/plain": [
       "<IPython.core.display.HTML object>"
      ]
     },
     "execution_count": 22,
     "metadata": {},
     "output_type": "execute_result"
    }
   ],
   "source": [
    "top_n = 30 # number of keywords to display\n",
    "\n",
    "tm_res = TM_Results(optimal_model, \n",
    "                    bow_rep, \n",
    "                    lda_dict,\n",
    "                    n_clusters)\n",
    "\n",
    "one_cell_toggle()"
   ]
  },
  {
   "cell_type": "code",
   "execution_count": 23,
   "metadata": {},
   "outputs": [
    {
     "name": "stdout",
     "output_type": "stream",
     "text": [
      "Computing 30 least and most distinct words.\n",
      "\n",
      "\n",
      "30 most relevant words in topic 1:\n",
      "['creativ' 'cultur' 'develop' 'public' 'social' 'organ' 'project'\n",
      " 'program' 'local' 'work' 'plan' 'collabor' 'event' 'perform' 'circu'\n",
      " 'econom' 'citi' 'commiss' 'engag' 'network' 'innov' 'promot' 'area'\n",
      " 'place' 'new' 'social_chang' 'student' 'practic' 'commun' 'sector']\n",
      "\n",
      "\n",
      "30] least relevant words in topic 1:\n",
      "['class' 'employ' 'queer' 'main' 'home' 'love' 'respect' 'homeless' 'fun'\n",
      " 'graffiti' 'imag' 'violenc' 'instrument' 'target' 'nativ' 'gather' 'cost'\n",
      " 'ensembl' 'suppli' 'black' 'write' 'right' 'session' 'filmmak' 'musician'\n",
      " 'desir' 'self-esteem' 'high_qualiti' 'drop-in' 'larger']\n",
      "\n",
      "******************\n",
      "\n",
      "30 most relevant words in topic 2:\n",
      "['youth' 'program' 'work' 'provid' 'workshop' 'music' 'commun' 'theatr'\n",
      " 'cultur' 'educ' 'support' 'develop' 'peopl' 'includ' 'project' 'creat'\n",
      " 'danc' 'particip' 'offer' 'group' 'opportun' 'perform' 'organ' 'creativ'\n",
      " 'visual' 'centr' 'tradit' 'school' 'profession' 'film']\n",
      "\n",
      "\n",
      "30] least relevant words in topic 2:\n",
      "['discours' 'commerci' 'situat' 'multi-facet' 'pave' 'recoveri' 'spark'\n",
      " 'face_barrier' 'cirqu' 'year_ago' 'anti-oppress' 'stress' 'emerg_leader'\n",
      " 'concentr' 'forum_theatr' 'sourc' 'secondari' 'justic' 'solidar' 'devot'\n",
      " 'month' 'curios' 'eco' 'port' 'factori' 'clay' 'squamish' 'suitabl'\n",
      " 'racial' 'minor']\n",
      "\n",
      "******************\n",
      "\n",
      "30 most relevant words in topic 3:\n",
      "['program' 'mural' 'patient' 'support' 'studio' 'member' 'printmak'\n",
      " 'graffiti' 'school' 'project' 'associ' 'health' 'veteran' 'work' 'provid'\n",
      " 'challeng' 'engag' 'public' 'educ' 'galleri' 'help' 'profession' 'ticket'\n",
      " 'theatr' 'collect' 'artwork' 'disabl' 'woman' 'contact' 'local']\n",
      "\n",
      "\n",
      "30] least relevant words in topic 3:\n",
      "['festiv' 'child' 'senior' 'circu' 'togeth' 'first_nation' 'healthi'\n",
      " 'believ' 'child_youth' 'take' 'improv' 'queer' 'north' 'respect' 'award'\n",
      " 'imagin' 'interact' 'programm' 'team' 'rural' 'region' 'futur' 'foster'\n",
      " 'record' 'dynam' 'teacher' 'instrument' 'digit' 'rais' 'ensur']\n",
      "\n",
      "******************\n",
      "\n",
      "30 most relevant words in topic 4:\n",
      "['creat' 'space' 'theatr' 'work' 'public' 'dialogu' 'cultur' 'creativ'\n",
      " 'social' 'issu' 'perform' 'practic' 'transform' 'make' 'build' 'world'\n",
      " 'share' 'chang' 'theater' 'activ' 'promot' 'project' 'peopl' 'visual'\n",
      " 'medium' 'engag' 'commun' 'live' 'exhibit' 'challeng']\n",
      "\n",
      "\n",
      "30] least relevant words in topic 4:\n",
      "['fund' 'center' 'staff' 'artwork' 'addit' 'hous' 'career' 'bring_togeth'\n",
      " 'avail' 'care' 'offic' 'come' 'director' 'profession_develop' 'techniqu'\n",
      " 'travel' 'everi' 'made' 'graffiti' 'recogn' 'venu' 'session' 'lgbt'\n",
      " 'board' 'award' 'sever' 'plan' 'filmmak' 'great' 'island']\n",
      "\n",
      "******************\n"
     ]
    },
    {
     "data": {
      "text/html": [
       "\n",
       "        <script>\n",
       "            function code_toggle_17333378303590352356() {\n",
       "                $('div.cell.code_cell.rendered.selected').find('div.input').toggle();\n",
       "            }\n",
       "\n",
       "            \n",
       "        </script>\n",
       "\n",
       "        <a href=\"javascript:code_toggle_17333378303590352356()\">Click here to hide/show the current code cell</a>\n",
       "    "
      ],
      "text/plain": [
       "<IPython.core.display.HTML object>"
      ]
     },
     "execution_count": 23,
     "metadata": {},
     "output_type": "execute_result"
    }
   ],
   "source": [
    "most_distinct, least_distinct = tm_res.tm_distinct(top_n = top_n)\n",
    "\n",
    "most_relevant = []\n",
    "least_relevant = []\n",
    "\n",
    "for topic in range(n_clusters):\n",
    "    most_rel, least_rel = tm_res.tm_relevant(topic_num = topic, top_n = top_n)\n",
    "    most_relevant.append(most_rel)\n",
    "    least_relevant.append(least_rel)\n",
    "    print('\\n{} most relevant words in topic {}:\\n{}\\n'.format(top_n, topic + 1, most_rel))\n",
    "    print('\\n{}] least relevant words in topic {}:\\n{}\\n'.format(top_n, topic + 1, least_rel))\n",
    "    print('*'*18)\n",
    "    \n",
    "one_cell_toggle()    "
   ]
  },
  {
   "cell_type": "code",
   "execution_count": 24,
   "metadata": {},
   "outputs": [
    {
     "data": {
      "text/plain": [
       "array(['patient', 'veteran', 'treatment', 'printmak', 'graffiti', 'mural',\n",
       "       'face_barrier', 'post', 'militari', 'rehabilit', 'ticket', 'minor',\n",
       "       'reintegr', 'trauma', 'wall', 'healthcar', 'contact', 'commerci',\n",
       "       'seat', 'rental', 'depart', 'blog', 'war', 'sourc', 'blind',\n",
       "       'exampl', 'stress', 'ive', 'ill', 'lack'], dtype='<U25')"
      ]
     },
     "execution_count": 24,
     "metadata": {},
     "output_type": "execute_result"
    }
   ],
   "source": [
    "# showing most 'distinct' words according to measure defined above:\n",
    "\n",
    "most_distinct"
   ]
  },
  {
   "cell_type": "markdown",
   "metadata": {},
   "source": [
    "<hr/>\n",
    "\n",
    "### Heat map fo LDA \n",
    "\n",
    "Shows topic assignment (marginal probability of being in a topic) "
   ]
  },
  {
   "cell_type": "code",
   "execution_count": 30,
   "metadata": {},
   "outputs": [
    {
     "name": "stdout",
     "output_type": "stream",
     "text": [
      "The autoreload extension is already loaded. To reload it, use:\n",
      "  %reload_ext autoreload\n"
     ]
    }
   ],
   "source": [
    "%reload_ext autoreload\n",
    "\n",
    "%autoreload 2"
   ]
  },
  {
   "cell_type": "code",
   "execution_count": 31,
   "metadata": {},
   "outputs": [
    {
     "data": {
      "image/png": "[encoded data removed]",
      "text/plain": [
       "<Figure size 1440x1080 with 1 Axes>"
      ]
     },
     "metadata": {
      "needs_background": "light"
     },
     "output_type": "display_data"
    },
    {
     "data": {
      "text/html": [
       "\n",
       "        <script>\n",
       "            function code_toggle_9471448785874179515() {\n",
       "                $('div.cell.code_cell.rendered.selected').find('div.input').toggle();\n",
       "            }\n",
       "\n",
       "            \n",
       "        </script>\n",
       "\n",
       "        <a href=\"javascript:code_toggle_9471448785874179515()\">Click here to hide/show the current code cell</a>\n",
       "    "
      ],
      "text/plain": [
       "<IPython.core.display.HTML object>"
      ]
     },
     "execution_count": 31,
     "metadata": {},
     "output_type": "execute_result"
    }
   ],
   "source": [
    "plt.rcParams['figure.figsize'] = [20, 15]\n",
    "\n",
    "HeatMapLDA(optimal_model, n_clusters).heat_plot(num_word_displayed=20, is_horizontal=True) \n",
    "one_cell_toggle()"
   ]
  },
  {
   "cell_type": "markdown",
   "metadata": {},
   "source": [
    "### Topic visualization using pyLDAvis\n",
    "\n",
    "Can display t-sne, PCA or MDS dimension reduction schemes"
   ]
  },
  {
   "cell_type": "code",
   "execution_count": 26,
   "metadata": {
    "scrolled": true
   },
   "outputs": [
    {
     "name": "stdout",
     "output_type": "stream",
     "text": [
      "Rendering visualization...\n"
     ]
    },
    {
     "data": {
      "text/html": [
       "\n",
       "<link rel=\"stylesheet\" type=\"text/css\" href=\"https://cdn.rawgit.com/bmabey/pyLDAvis/files/ldavis.v1.0.0.css\">\n",
       "\n",
       "\n",
       "<div id=\"ldavis_el1840150078912163922992952\"></div>\n",
       "<script type=\"text/javascript\">\n",
       "\n",
       "var ldavis_el1840150078912163922992952_data = {\"mdsDat\": {\"x\": [20.10395050048828, 26.388408660888672, -92.99526977539062, -86.71078491210938], \"y\": [-315.4450378417969, -428.5440368652344, -321.7256774902344, -434.82476806640625], \"topics\": [1, 2, 3, 4], \"cluster\": [1, 1, 1, 1], \"Freq\": [19.06517791748047, 52.25532150268555, 9.278401374816895, 19.401098251342773]}, \"tinfo\": {\"Category\": [\"Default\", \"Default\", \"Default\", \"Default\", \"Default\", \"Default\", \"Default\", \"Default\", \"Default\", \"Default\", \"Default\", \"Default\", \"Default\", \"Default\", \"Default\", \"Default\", \"Default\", \"Default\", \"Default\", \"Default\", \"Default\", \"Default\", \"Default\", \"Default\", \"Default\", \"Default\", \"Default\", \"Default\", \"Default\", \"Default\", \"Topic1\", \"Topic1\", \"Topic1\", \"Topic1\", \"Topic1\", \"Topic1\", \"Topic1\", \"Topic1\", \"Topic1\", \"Topic1\", \"Topic1\", \"Topic1\", \"Topic1\", \"Topic1\", \"Topic1\", \"Topic1\", \"Topic1\", \"Topic1\", \"Topic1\", \"Topic1\", \"Topic1\", \"Topic1\", \"Topic1\", \"Topic1\", \"Topic1\", \"Topic1\", \"Topic1\", \"Topic1\", \"Topic1\", \"Topic1\", \"Topic1\", \"Topic1\", \"Topic1\", \"Topic1\", \"Topic1\", \"Topic1\", \"Topic1\", \"Topic1\", \"Topic1\", \"Topic1\", \"Topic1\", \"Topic1\", \"Topic1\", \"Topic1\", \"Topic1\", \"Topic1\", \"Topic1\", \"Topic1\", \"Topic1\", \"Topic1\", \"Topic1\", \"Topic1\", \"Topic1\", \"Topic1\", \"Topic1\", \"Topic1\", \"Topic1\", \"Topic1\", \"Topic1\", \"Topic1\", \"Topic1\", \"Topic1\", \"Topic1\", \"Topic1\", \"Topic1\", \"Topic1\", \"Topic1\", \"Topic1\", \"Topic1\", \"Topic1\", \"Topic1\", \"Topic1\", \"Topic1\", \"Topic1\", \"Topic1\", \"Topic2\", \"Topic2\", \"Topic2\", \"Topic2\", \"Topic2\", \"Topic2\", \"Topic2\", \"Topic2\", \"Topic2\", \"Topic2\", \"Topic2\", \"Topic2\", \"Topic2\", \"Topic2\", \"Topic2\", \"Topic2\", \"Topic2\", \"Topic2\", \"Topic2\", \"Topic2\", \"Topic2\", \"Topic2\", \"Topic2\", \"Topic2\", \"Topic2\", \"Topic2\", \"Topic2\", \"Topic2\", \"Topic2\", \"Topic2\", \"Topic2\", \"Topic2\", \"Topic2\", \"Topic2\", \"Topic2\", \"Topic2\", \"Topic2\", \"Topic2\", \"Topic2\", \"Topic2\", \"Topic2\", \"Topic2\", \"Topic2\", \"Topic2\", \"Topic2\", \"Topic2\", \"Topic2\", \"Topic2\", \"Topic2\", \"Topic2\", \"Topic2\", \"Topic2\", \"Topic2\", \"Topic2\", \"Topic2\", \"Topic2\", \"Topic2\", \"Topic2\", \"Topic2\", \"Topic2\", \"Topic2\", \"Topic2\", \"Topic2\", \"Topic2\", \"Topic2\", \"Topic2\", \"Topic2\", \"Topic2\", \"Topic2\", \"Topic2\", \"Topic2\", \"Topic2\", \"Topic2\", \"Topic2\", \"Topic2\", \"Topic2\", \"Topic2\", \"Topic2\", \"Topic2\", \"Topic2\", \"Topic2\", \"Topic2\", \"Topic2\", \"Topic3\", \"Topic3\", \"Topic3\", \"Topic3\", \"Topic3\", \"Topic3\", \"Topic3\", \"Topic3\", \"Topic3\", \"Topic3\", \"Topic3\", \"Topic3\", \"Topic3\", \"Topic3\", \"Topic3\", \"Topic3\", \"Topic3\", \"Topic3\", \"Topic3\", \"Topic3\", \"Topic3\", \"Topic3\", \"Topic3\", \"Topic3\", \"Topic3\", \"Topic3\", \"Topic3\", \"Topic3\", \"Topic3\", \"Topic3\", \"Topic3\", \"Topic3\", \"Topic3\", \"Topic3\", \"Topic3\", \"Topic3\", \"Topic3\", \"Topic3\", \"Topic3\", \"Topic3\", \"Topic3\", \"Topic3\", \"Topic3\", \"Topic3\", \"Topic3\", \"Topic3\", \"Topic3\", \"Topic3\", \"Topic3\", \"Topic3\", \"Topic3\", \"Topic3\", \"Topic3\", \"Topic3\", \"Topic3\", \"Topic3\", \"Topic3\", \"Topic3\", \"Topic3\", \"Topic3\", \"Topic3\", \"Topic3\", \"Topic3\", \"Topic3\", \"Topic3\", \"Topic3\", \"Topic3\", \"Topic3\", \"Topic4\", \"Topic4\", \"Topic4\", \"Topic4\", \"Topic4\", \"Topic4\", \"Topic4\", \"Topic4\", \"Topic4\", \"Topic4\", \"Topic4\", \"Topic4\", \"Topic4\", \"Topic4\", \"Topic4\", \"Topic4\", \"Topic4\", \"Topic4\", \"Topic4\", \"Topic4\", \"Topic4\", \"Topic4\", \"Topic4\", \"Topic4\", \"Topic4\", \"Topic4\", \"Topic4\", \"Topic4\", \"Topic4\", \"Topic4\", \"Topic4\", \"Topic4\", \"Topic4\", \"Topic4\", \"Topic4\", \"Topic4\", \"Topic4\", \"Topic4\", \"Topic4\", \"Topic4\", \"Topic4\", \"Topic4\", \"Topic4\", \"Topic4\", \"Topic4\", \"Topic4\", \"Topic4\", \"Topic4\", \"Topic4\", \"Topic4\", \"Topic4\", \"Topic4\", \"Topic4\", \"Topic4\", \"Topic4\", \"Topic4\", \"Topic4\", \"Topic4\", \"Topic4\", \"Topic4\", \"Topic4\", \"Topic4\", \"Topic4\", \"Topic4\", \"Topic4\", \"Topic4\", \"Topic4\", \"Topic4\", \"Topic4\", \"Topic4\", \"Topic4\", \"Topic4\", \"Topic4\", \"Topic4\", \"Topic4\", \"Topic4\"], \"Freq\": [515.0, 338.0, 215.0, 376.0, 291.0, 309.0, 300.0, 229.0, 452.0, 222.0, 172.0, 214.0, 121.0, 130.0, 35.0, 78.0, 191.0, 251.0, 306.0, 118.0, 58.0, 128.0, 258.0, 95.0, 56.0, 104.0, 109.0, 80.0, 92.0, 48.0, 5.875510215759277, 4.932063102722168, 5.634149074554443, 5.617227554321289, 7.036860466003418, 3.0449750423431396, 3.016963243484497, 2.9997801780700684, 8.2844877243042, 8.251911163330078, 18.221446990966797, 3.6803550720214844, 6.59482479095459, 9.448479652404785, 5.791476249694824, 5.684666633605957, 2.828914165496826, 2.77113676071167, 4.841729164123535, 8.173578262329102, 3.992838144302368, 9.446839332580566, 20.804420471191406, 4.010658264160156, 5.87020206451416, 4.672379493713379, 2.657851219177246, 3.913601875305176, 3.9790501594543457, 3.9318230152130127, 25.84619140625, 15.346927642822266, 10.594866752624512, 7.635376453399658, 24.157739639282227, 9.135202407836914, 9.959392547607422, 5.753610134124756, 129.10452270507812, 13.746319770812988, 121.34976959228516, 74.48159790039062, 73.02960968017578, 74.28424072265625, 18.60247039794922, 90.79875946044922, 42.86159133911133, 16.733118057250977, 30.100210189819336, 26.67948341369629, 75.74998474121094, 17.467744827270508, 43.69096374511719, 36.65791320800781, 24.730161666870117, 25.554244995117188, 24.04309844970703, 27.939659118652344, 82.50391387939453, 72.08116149902344, 48.93513870239258, 26.626060485839844, 41.104286193847656, 34.41688919067383, 35.41542434692383, 29.618114471435547, 41.438323974609375, 38.73149871826172, 31.16637420654297, 31.84069061279297, 35.30316162109375, 31.82306480407715, 29.27276039123535, 28.27357292175293, 26.383373260498047, 18.63555908203125, 17.645681381225586, 16.704898834228516, 14.786566734313965, 14.785677909851074, 13.738055229187012, 10.895441055297852, 9.930590629577637, 10.823641777038574, 9.923084259033203, 9.90173625946045, 8.968141555786133, 51.14867401123047, 8.941211700439453, 33.04499435424805, 8.006345748901367, 8.006268501281738, 8.003485679626465, 23.129514694213867, 7.9937238693237305, 7.962227821350098, 7.952133655548096, 12.346991539001465, 7.023934841156006, 7.887831211090088, 7.004705905914307, 7.0037760734558105, 7.000090599060059, 6.999375343322754, 6.994694709777832, 8.74376106262207, 311.5977478027344, 20.75025177001953, 14.737495422363281, 10.438121795654297, 47.200714111328125, 43.67037582397461, 14.648929595947266, 63.655975341796875, 142.98135375976562, 31.16893196105957, 57.16493225097656, 34.07961654663086, 159.69949340820312, 70.18649291992188, 36.95930862426758, 45.57332229614258, 101.59597778320312, 93.19638061523438, 335.979736328125, 174.80001831054688, 23.945478439331055, 36.623844146728516, 115.45421600341797, 37.0789909362793, 98.10256958007812, 53.5191650390625, 64.18203735351562, 157.14825439453125, 140.73194885253906, 241.62985229492188, 61.753231048583984, 139.880126953125, 104.90785217285156, 148.05682373046875, 79.62368774414062, 103.34032440185547, 158.08827209472656, 157.7259521484375, 172.6787567138672, 83.93622589111328, 81.69865417480469, 144.36517333984375, 141.55116271972656, 80.20339965820312, 114.11299133300781, 103.42486572265625, 72.42108917236328, 123.04762268066406, 73.40882873535156, 78.11583709716797, 82.07137298583984, 78.1822509765625, 10.412137985229492, 7.932532787322998, 2.79144287109375, 9.976475715637207, 4.514601707458496, 25.21538734436035, 3.6469812393188477, 3.601724624633789, 3.562197208404541, 7.067870140075684, 5.183929443359375, 4.536585330963135, 2.7916226387023926, 2.801732301712036, 4.482770919799805, 2.7939372062683105, 11.101554870605469, 2.750443935394287, 3.2507741451263428, 4.7864580154418945, 3.6639323234558105, 3.643376111984253, 5.145540714263916, 4.082599639892578, 2.5409040451049805, 3.5385265350341797, 4.488353252410889, 1.9381334781646729, 1.939507246017456, 1.936205506324768, 6.767439365386963, 6.195797920227051, 4.780204772949219, 14.118249893188477, 7.835699081420898, 20.9758358001709, 77.17881774902344, 16.600711822509766, 24.777177810668945, 14.640503883361816, 10.447564125061035, 23.93508529663086, 33.514617919921875, 13.7584228515625, 33.780235290527344, 10.09448528289795, 17.867984771728516, 28.42119789123535, 23.863933563232422, 19.326152801513672, 35.940128326416016, 16.38155746459961, 24.28553581237793, 25.995052337646484, 26.13978385925293, 15.299214363098145, 14.369438171386719, 16.300174713134766, 12.57398796081543, 18.822290420532227, 20.54781723022461, 16.921417236328125, 16.403709411621094, 14.893558502197266, 14.884161949157715, 16.28217887878418, 14.579788208007812, 14.334908485412598, 6.786417007446289, 5.076047897338867, 5.922117710113525, 4.103724479675293, 4.09593391418457, 11.517927169799805, 4.076573371887207, 4.067248821258545, 3.9897847175598145, 5.5823259353637695, 4.769575119018555, 3.141306161880493, 3.134280204772949, 3.1346218585968018, 7.842790603637695, 3.130300998687744, 3.1292338371276855, 3.128333330154419, 3.1133882999420166, 7.822543621063232, 3.106184482574463, 3.095226287841797, 3.0645194053649902, 3.79521107673645, 11.2420654296875, 5.95273494720459, 15.04216480255127, 6.747114181518555, 5.9561848640441895, 3.7063982486724854, 5.897014141082764, 35.63713836669922, 5.866887092590332, 10.756776809692383, 7.72390079498291, 12.301015853881836, 28.50786018371582, 30.546247482299805, 77.96279907226562, 7.763191223144531, 8.964730262756348, 42.111568450927734, 15.029670715332031, 103.42971801757812, 36.1224365234375, 22.54780387878418, 74.24018096923828, 21.32501983642578, 35.790313720703125, 44.05143356323242, 90.91178131103516, 25.71787452697754, 38.70551300048828, 14.025026321411133, 102.55975341796875, 62.0057258605957, 28.47999382019043, 45.6586799621582, 62.02598190307617, 45.37345504760742, 74.20856475830078, 77.74645233154297, 42.100521087646484, 44.393680572509766, 37.903804779052734, 28.68781852722168, 39.263206481933594, 34.128089904785156, 44.713348388671875, 49.619083404541016, 55.96309280395508, 49.20054626464844, 45.745906829833984, 43.54405212402344, 33.88629913330078, 33.78187561035156], \"Term\": [\"program\", \"creativ\", \"public\", \"cultur\", \"theatr\", \"project\", \"creat\", \"support\", \"work\", \"social\", \"space\", \"organ\", \"member\", \"school\", \"mural\", \"studio\", \"engag\", \"provid\", \"develop\", \"local\", \"health\", \"profession\", \"educ\", \"collect\", \"challeng\", \"help\", \"practic\", \"transform\", \"disabl\", \"dialogu\", \"cirqu\", \"squamish\", \"analyz\", \"public_privat\", \"report\", \"inequ\", \"consolid\", \"laboratori\", \"counti\", \"placemak\", \"commiss\", \"lay\", \"slam\", \"rather\", \"profit_organ\", \"aesthet\", \"aliv\", \"submit\", \"democrat\", \"conflict\", \"port\", \"debat\", \"econom\", \"photovoic\", \"multi-facet\", \"sometim\", \"renew\", \"incept\", \"pop\", \"flexibl\", \"plan\", \"sector\", \"propos\", \"red\", \"circu\", \"natur\", \"food\", \"landscap\", \"creativ\", \"bring_togeth\", \"cultur\", \"public\", \"organ\", \"social\", \"center\", \"develop\", \"local\", \"venu\", \"citi\", \"network\", \"project\", \"role\", \"collabor\", \"event\", \"place\", \"area\", \"social_chang\", \"innov\", \"program\", \"work\", \"perform\", \"student\", \"engag\", \"promot\", \"new\", \"practic\", \"commun\", \"educ\", \"build\", \"particip\", \"creat\", \"peopl\", \"activ\", \"support\", \"provid\", \"instrument\", \"island\", \"suppli\", \"filmmak\", \"black\", \"charit_organ\", \"youth_adult\", \"jumbl\", \"drum\", \"sketch\", \"underserv\", \"northwest\", \"senior\", \"execut_director\", \"craft\", \"dementia\", \"summer_camp\", \"illustr\", \"hous\", \"choir\", \"remot\", \"free_charg\", \"carv\", \"sing\", \"everyday_life\", \"theatric_product\", \"cycl\", \"quirk\", \"data\", \"sell\", \"chanc\", \"youth\", \"record\", \"target\", \"read\", \"class\", \"first_nation\", \"nativ\", \"film\", \"music\", \"mentor\", \"child\", \"market\", \"workshop\", \"tradit\", \"annual\", \"young\", \"danc\", \"group\", \"program\", \"provid\", \"employ\", \"adult\", \"includ\", \"aborigin\", \"offer\", \"indigen\", \"need\", \"commun\", \"support\", \"work\", \"festiv\", \"peopl\", \"particip\", \"educ\", \"centr\", \"opportun\", \"theatr\", \"develop\", \"cultur\", \"visual\", \"school\", \"project\", \"creat\", \"profession\", \"perform\", \"organ\", \"learn\", \"creativ\", \"skill\", \"experi\", \"engag\", \"social\", \"patient\", \"veteran\", \"treatment\", \"printmak\", \"face_barrier\", \"mural\", \"minor\", \"post\", \"healthcar\", \"ticket\", \"rehabilit\", \"commerci\", \"seat\", \"reintegr\", \"militari\", \"trauma\", \"graffiti\", \"blog\", \"wall\", \"war\", \"sourc\", \"stress\", \"exampl\", \"novel\", \"rental\", \"blind\", \"ill\", \"pathway\", \"traumat\", \"insight\", \"contact\", \"uniti\", \"depart\", \"associ\", \"heal\", \"studio\", \"program\", \"health\", \"member\", \"challeng\", \"artwork\", \"school\", \"support\", \"galleri\", \"project\", \"univers\", \"help\", \"provid\", \"engag\", \"profession\", \"work\", \"collect\", \"public\", \"educ\", \"theatr\", \"disabl\", \"woman\", \"local\", \"network\", \"organ\", \"creat\", \"opportun\", \"new\", \"express\", \"life\", \"peopl\", \"includ\", \"experi\", \"push\", \"anti-oppress\", \"embrac\", \"curios\", \"eco\", \"boundari\", \"length\", \"edg\", \"non-judgement\", \"gender_ident\", \"humankind\", \"literari_medium\", \"tomorrow\", \"unfold\", \"extend\", \"freeli\", \"diamond\", \"norm\", \"agent\", \"artist-run_centr\", \"philosoph\", \"border\", \"beautifi\", \"conserv\", \"oppress\", \"solidar\", \"human_right\", \"old\", \"spark\", \"catalyz\", \"visibl\", \"dialogu\", \"paper\", \"anoth\", \"motiv\", \"experiment\", \"theater\", \"chang\", \"space\", \"hiv_aid\", \"head\", \"issu\", \"citizen\", \"creat\", \"transform\", \"awar\", \"public\", \"polit\", \"world\", \"practic\", \"theatr\", \"challeng\", \"share\", \"spirit\", \"work\", \"social\", \"exhibit\", \"make\", \"perform\", \"build\", \"creativ\", \"cultur\", \"promot\", \"activ\", \"medium\", \"contemporari\", \"visual\", \"live\", \"engag\", \"peopl\", \"project\", \"commun\", \"educ\", \"develop\", \"new\", \"youth\"], \"Total\": [515.0, 338.0, 215.0, 376.0, 291.0, 309.0, 300.0, 229.0, 452.0, 222.0, 172.0, 214.0, 121.0, 130.0, 35.0, 78.0, 191.0, 251.0, 306.0, 118.0, 58.0, 128.0, 258.0, 95.0, 56.0, 104.0, 109.0, 80.0, 92.0, 48.0, 6.600655555725098, 5.654898643493652, 6.606672763824463, 6.607192039489746, 8.508344650268555, 3.7677111625671387, 3.768707752227783, 3.7688064575195312, 10.410231590270996, 10.41484260559082, 23.299945831298828, 4.718754768371582, 8.519193649291992, 12.301100730895996, 7.558813095092773, 7.569300651550293, 3.7713146209716797, 3.7747743129730225, 6.624603748321533, 11.377729415893555, 5.573638439178467, 13.282472610473633, 29.414236068725586, 5.6795806884765625, 8.324384689331055, 6.630380630493164, 3.7763776779174805, 5.575758934020996, 5.680075168609619, 5.68190860748291, 37.922245025634766, 22.818740844726562, 16.163545608520508, 11.401885032653809, 41.93675231933594, 14.264382362365723, 15.973101615905762, 8.542664527893066, 338.2256164550781, 24.48719596862793, 376.2492370605469, 215.88595581054688, 214.8831329345703, 222.8009796142578, 37.8670654296875, 306.13922119140625, 118.02655029296875, 33.353111267089844, 76.13026428222656, 65.58965301513672, 309.8584899902344, 36.11405563354492, 141.65286254882812, 112.11668395996094, 64.74004364013672, 68.34184265136719, 62.75546646118164, 80.53878021240234, 515.9656372070312, 452.21087646484375, 236.69117736816406, 83.41331481933594, 191.75294494628906, 140.1981201171875, 158.91766357421875, 109.77197265625, 259.29302978515625, 258.529296875, 147.6433563232422, 166.38629150390625, 300.83184814453125, 237.6044464111328, 159.60025024414062, 229.79649353027344, 251.8668975830078, 19.377405166625977, 18.40448570251465, 17.435701370239258, 15.494654655456543, 15.494144439697266, 14.523148536682129, 11.609347343444824, 10.640715599060059, 11.604901313781738, 10.64090347290039, 10.639867782592773, 9.670162200927734, 55.208553314208984, 9.667350769042969, 35.828758239746094, 8.69969654083252, 8.699684143066406, 8.699603080749512, 25.158794403076172, 8.699628829956055, 8.698545455932617, 8.697887420654297, 13.540791511535645, 7.728860378265381, 8.698479652404785, 7.727620601654053, 7.7276225090026855, 7.72735595703125, 7.727117538452148, 7.726373672485352, 9.663660049438477, 366.31854248046875, 23.227140426635742, 16.460859298706055, 11.60145378112793, 54.168827056884766, 50.39226531982422, 16.4510555267334, 76.41268920898438, 179.37594604492188, 36.566932678222656, 69.7036361694336, 40.38396453857422, 210.12069702148438, 88.38162231445312, 44.42142105102539, 55.95741653442383, 135.04092407226562, 124.46704864501953, 515.9656372070312, 251.8668975830078, 28.093055725097656, 45.137969970703125, 163.5343780517578, 46.01226043701172, 140.9915008544922, 70.36740112304688, 88.424560546875, 259.29302978515625, 229.79649353027344, 452.21087646484375, 85.8980941772461, 237.6044464111328, 166.38629150390625, 258.529296875, 119.60541534423828, 166.98199462890625, 291.0156555175781, 306.13922119140625, 376.2492370605469, 135.65408325195312, 130.51783752441406, 309.8584899902344, 300.83184814453125, 128.93099975585938, 236.69117736816406, 214.8831329345703, 110.70069122314453, 338.2256164550781, 115.01366424560547, 140.18992614746094, 191.75294494628906, 222.8009796142578, 11.300468444824219, 9.669000625610352, 3.523456573486328, 13.289322853088379, 6.213749408721924, 35.60333251953125, 5.3295817375183105, 5.360271453857422, 5.3382391929626465, 10.744112014770508, 8.064189910888672, 7.178460121154785, 4.466790676116943, 4.49012565612793, 7.189764499664307, 4.489225387573242, 18.00746726989746, 4.493433952331543, 5.404827117919922, 8.074361801147461, 6.271724700927734, 6.320122718811035, 8.970131874084473, 7.207502841949463, 4.522775173187256, 6.325427532196045, 8.156255722045898, 3.6028852462768555, 3.627899646759033, 3.625321388244629, 12.726630210876465, 11.745100975036621, 9.089479446411133, 37.70207214355469, 19.320659637451172, 78.75801849365234, 515.9656372070312, 58.663536071777344, 121.5964126586914, 56.11614227294922, 33.52193832397461, 130.51783752441406, 229.79649353027344, 54.37785339355469, 309.8584899902344, 36.261077880859375, 104.87818908691406, 251.8668975830078, 191.75294494628906, 128.93099975585938, 452.21087646484375, 95.3774642944336, 215.88595581054688, 258.529296875, 291.0156555175781, 92.67332458496094, 82.04986572265625, 118.02655029296875, 65.58965301513672, 214.8831329345703, 300.83184814453125, 166.98199462890625, 158.91766357421875, 113.07930755615234, 122.71023559570312, 237.6044464111328, 163.5343780517578, 140.18992614746094, 7.701487064361572, 5.77032995223999, 6.73660135269165, 4.802884578704834, 4.801856994628906, 13.508371353149414, 4.8017683029174805, 4.802347183227539, 4.803135871887207, 6.737560272216797, 5.770223140716553, 3.836146593093872, 3.835268020629883, 3.8356902599334717, 9.601609230041504, 3.8362629413604736, 3.8362643718719482, 3.8359296321868896, 3.834409475326538, 9.637433052062988, 3.833824396133423, 3.8361611366271973, 3.8361220359802246, 4.802974700927734, 14.283086776733398, 7.594141960144043, 19.253170013427734, 8.674345016479492, 7.6790547370910645, 4.800216197967529, 7.704981803894043, 48.93348693847656, 7.70434045791626, 15.29327392578125, 10.605778694152832, 18.301067352294922, 49.97212600708008, 56.25822448730469, 172.9454345703125, 11.255842208862305, 13.44784164428711, 88.00947570800781, 25.73824691772461, 300.83184814453125, 80.677978515625, 44.00635528564453, 215.88595581054688, 41.868797302246094, 82.80343627929688, 109.77197265625, 291.0156555175781, 56.11614227294922, 101.14053344726562, 24.890169143676758, 452.21087646484375, 222.8009796142578, 71.326904296875, 146.50784301757812, 236.69117736816406, 147.6433563232422, 338.2256164550781, 376.2492370605469, 140.1981201171875, 159.60025024414062, 125.29879760742188, 78.20924377441406, 135.65408325195312, 110.42977905273438, 191.75294494628906, 237.6044464111328, 309.8584899902344, 259.29302978515625, 258.529296875, 306.13922119140625, 158.91766357421875, 366.31854248046875], \"loglift\": [30.0, 29.0, 28.0, 27.0, 26.0, 25.0, 24.0, 23.0, 22.0, 21.0, 20.0, 19.0, 18.0, 17.0, 16.0, 15.0, 14.0, 13.0, 12.0, 11.0, 10.0, 9.0, 8.0, 7.0, 6.0, 5.0, 4.0, 3.0, 2.0, 1.0, 1.5408999919891357, 1.5204999446868896, 1.4981000423431396, 1.4950000047683716, 1.4673999547958374, 1.4443000555038452, 1.4348000288009644, 1.4291000366210938, 1.4289000034332275, 1.4244999885559082, 1.4114999771118164, 1.4088000059127808, 1.4012999534606934, 1.3934999704360962, 1.3910000324249268, 1.371000051498413, 1.3697999715805054, 1.3481999635696411, 1.3437999486923218, 1.3265999555587769, 1.323799967765808, 1.316499948501587, 1.3109999895095825, 1.309399962425232, 1.3079999685287476, 1.3072999715805054, 1.3061000108718872, 1.3033000230789185, 1.3013999462127686, 1.2891000509262085, 1.273900032043457, 1.260599970817566, 1.2348999977111816, 1.2562999725341797, 1.1057000160217285, 1.2116999626159668, 1.1849000453948975, 1.2620999813079834, 0.6941999793052673, 1.0799000263214111, 0.5256999731063843, 0.5931000113487244, 0.5781000256538391, 0.558899998664856, 0.9465000033378601, 0.44190001487731934, 0.6444000005722046, 0.9674999713897705, 0.7293999791145325, 0.7577999830245972, 0.24860000610351562, 0.9309999942779541, 0.4810999929904938, 0.5393999814987183, 0.6949999928474426, 0.6736000180244446, 0.6978999972343445, 0.5985999703407288, -0.17589999735355377, -0.17900000512599945, 0.08100000023841858, 0.5153999924659729, 0.11720000207424164, 0.25279998779296875, 0.15610000491142273, 0.3472999930381775, -0.17640000581741333, -0.2409999966621399, 0.10180000215768814, 0.003700000001117587, -0.4853000044822693, -0.3531000018119812, -0.03869999945163727, -0.43799999356269836, -0.5989000201225281, 0.6100000143051147, 0.6068999767303467, 0.6061999797821045, 0.6022999882698059, 0.6021999716758728, 0.593500018119812, 0.5856000185012817, 0.5799999833106995, 0.5792999863624573, 0.579200029373169, 0.5770999789237976, 0.5737000107765198, 0.5726000070571899, 0.570900022983551, 0.5680999755859375, 0.5659999847412109, 0.5659999847412109, 0.5655999779701233, 0.5648999810218811, 0.5644000172615051, 0.5605999827384949, 0.5594000220298767, 0.5566999912261963, 0.5533999800682068, 0.5511999726295471, 0.5508000254631042, 0.5507000088691711, 0.5501999855041504, 0.5501000285148621, 0.5494999885559082, 0.5490000247955322, 0.487199991941452, 0.536300003528595, 0.5383999943733215, 0.54339998960495, 0.5113000273704529, 0.5059000253677368, 0.5329999923706055, 0.46639999747276306, 0.4223000109195709, 0.489300012588501, 0.4507000148296356, 0.47929999232292175, 0.37459999322891235, 0.41850000619888306, 0.4650999903678894, 0.4438000023365021, 0.3644999861717224, 0.3596999943256378, 0.2199999988079071, 0.28380000591278076, 0.489300012588501, 0.4399999976158142, 0.30090001225471497, 0.43320000171661377, 0.28630000352859497, 0.37529999017715454, 0.3285999894142151, 0.14830000698566437, 0.15870000422000885, 0.022299999371170998, 0.3190000057220459, 0.11919999867677689, 0.18780000507831573, 0.09160000085830688, 0.24210000038146973, 0.16920000314712524, 0.03880000114440918, -0.0142000000923872, -0.1298000067472458, 0.16899999976158142, 0.18060000240802765, -0.11469999700784683, -0.10490000247955322, 0.17430000007152557, -0.08049999922513962, -0.08219999819993973, 0.22470000386238098, -0.3621000051498413, 0.20000000298023224, 0.06419999897480011, -0.1995999962091446, -0.39820000529289246, 2.295599937438965, 2.179500102996826, 2.1445999145507812, 2.0906999111175537, 2.058000087738037, 2.0325000286102295, 1.9981000423431396, 1.9799000024795532, 1.9730000495910645, 1.9586999416351318, 1.9356000423431396, 1.9185999631881714, 1.9074000120162964, 1.9057999849319458, 1.9050999879837036, 1.9033000469207764, 1.8938000202178955, 1.8866000175476074, 1.8690999746322632, 1.854599952697754, 1.840000033378601, 1.82669997215271, 1.8216999769210815, 1.8091000318527222, 1.8008999824523926, 1.7965999841690063, 1.7802000045776367, 1.7575000524520874, 1.7512999773025513, 1.7503000497817993, 1.74590003490448, 1.7379000186920166, 1.7347999811172485, 1.3952000141143799, 1.475000023841858, 1.0544999837875366, 0.47760000824928284, 1.1151000261306763, 0.7867000102996826, 1.0338000059127808, 1.2115999460220337, 0.6812999844551086, 0.4523000121116638, 1.0032000541687012, 0.16120000183582306, 1.0987000465393066, 0.607699990272522, 0.195700004696846, 0.2935999929904938, 0.4796999990940094, -0.15479999780654907, 0.6158000230789185, 0.19259999692440033, 0.0803999975323677, -0.03240000084042549, 0.576200008392334, 0.6352999806404114, 0.3977000117301941, 0.7257000207901001, -0.0575999990105629, -0.30630001425743103, 0.08820000290870667, 0.10660000145435333, 0.35030001401901245, 0.2680000066757202, -0.30309998989105225, -0.039900001138448715, 0.09719999879598618, 1.5133999586105347, 1.5116000175476074, 1.5110000371932983, 1.4824999570846558, 1.4808000326156616, 1.4803999662399292, 1.476099967956543, 1.4737000465393066, 1.454300045967102, 1.45169997215271, 1.4493999481201172, 1.440000057220459, 1.437999963760376, 1.437999963760376, 1.4375, 1.4364999532699585, 1.4361000061035156, 1.4358999729156494, 1.43149995803833, 1.4312000274658203, 1.4293999671936035, 1.4251999855041504, 1.4153000116348267, 1.4042999744415283, 1.4004000425338745, 1.396299958229065, 1.3930000066757202, 1.3885999917984009, 1.3858000040054321, 1.3811999559402466, 1.3724000453948975, 1.3228000402450562, 1.367400050163269, 1.2879999876022339, 1.3228000402450562, 1.2425999641418457, 1.0786000490188599, 1.029099941253662, 0.8431000113487244, 1.2683000564575195, 1.2343000173568726, 0.9027000069618225, 1.1018999814987183, 0.5722000002861023, 0.8363000154495239, 0.9710999727249146, 0.5723999738693237, 0.9652000069618225, 0.8009999990463257, 0.7268000245094299, 0.4763999879360199, 0.8596000075340271, 0.6793000102043152, 1.0662000179290771, 0.15610000491142273, 0.36079999804496765, 0.7218000292778015, 0.4740000069141388, 0.30059999227523804, 0.46000000834465027, 0.12300000339746475, 0.06300000101327896, 0.4368000030517578, 0.3603000044822693, 0.4442000091075897, 0.636900007724762, 0.4000000059604645, 0.46560001373291016, 0.18389999866485596, 0.07360000163316727, -0.07159999758005142, -0.022199999541044235, -0.09210000187158585, -0.31040000915527344, 0.09449999779462814, -0.7437000274658203], \"logprob\": [30.0, 29.0, 28.0, 27.0, 26.0, 25.0, 24.0, 23.0, 22.0, 21.0, 20.0, 19.0, 18.0, 17.0, 16.0, 15.0, 14.0, 13.0, 12.0, 11.0, 10.0, 9.0, 8.0, 7.0, 6.0, 5.0, 4.0, 3.0, 2.0, 1.0, -7.076399803161621, -7.251399993896484, -7.118299961090088, -7.121300220489502, -6.895999908447266, -7.733699798583984, -7.7428998947143555, -7.748600006103516, -6.732800006866455, -6.736700057983398, -5.9446001052856445, -7.5441999435424805, -6.960899829864502, -6.60129976272583, -7.090799808502197, -7.109399795532227, -7.807300090789795, -7.827899932861328, -7.269899845123291, -6.746300220489502, -7.462699890136719, -6.601500034332275, -5.811999797821045, -7.458199977874756, -7.077300071716309, -7.305500030517578, -7.869699954986572, -7.482699871063232, -7.466100215911865, -7.478099822998047, -5.59499979019165, -6.116300106048584, -6.486800193786621, -6.8144001960754395, -5.662600040435791, -6.635000228881836, -6.548699855804443, -7.097400188446045, -3.986599922180176, -6.226399898529053, -4.048500061035156, -4.536600112915039, -4.556300163269043, -4.539299964904785, -5.923900127410889, -4.338500022888184, -5.089200019836426, -6.029799938201904, -5.442599773406982, -5.563300132751465, -4.519700050354004, -5.986800193786621, -5.070000171661377, -5.24560022354126, -5.639200210571289, -5.606400012969971, -5.667300224304199, -5.517099857330322, -4.434299945831299, -4.569399833679199, -4.956699848175049, -5.565299987792969, -5.131100177764893, -5.308599948883057, -5.28000020980835, -5.458799839019775, -5.123000144958496, -5.190499782562256, -5.407800197601318, -5.38640022277832, -5.283199787139893, -5.38700008392334, -5.4704999923706055, -5.505300045013428, -5.574399948120117, -6.9303998947143555, -6.985000133514404, -7.03980016708374, -7.1616997718811035, -7.161799907684326, -7.235300064086914, -7.467100143432617, -7.559800148010254, -7.473700046539307, -7.5605998039245605, -7.562699794769287, -7.661799907684326, -5.9207000732421875, -7.66480016708374, -6.357600212097168, -7.775199890136719, -7.775199890136719, -7.775599956512451, -6.714399814605713, -7.776800155639648, -7.780799865722656, -7.7820000648498535, -7.3420000076293945, -7.906099796295166, -7.79010009765625, -7.908899784088135, -7.908999919891357, -7.9095001220703125, -7.909599781036377, -7.910299777984619, -7.687099933624268, -4.113699913024902, -6.82289981842041, -7.16510009765625, -7.510000228881836, -6.001100063323975, -6.078800201416016, -7.17110013961792, -5.702000141143799, -4.8927001953125, -6.415999889373779, -5.809500217437744, -6.3267998695373535, -4.782199859619141, -5.604300022125244, -6.24560022354126, -6.036099910736084, -5.234499931335449, -5.320799827575684, -4.038400173187256, -4.691800117492676, -6.679699897766113, -6.254799842834473, -5.106599807739258, -6.242400169372559, -5.269400119781494, -5.875400066375732, -5.693699836730957, -4.798299789428711, -4.908599853515625, -4.368100166320801, -5.7322998046875, -4.914700031280518, -5.202400207519531, -4.857900142669678, -5.478099822998047, -5.217400074005127, -4.792300224304199, -4.794600009918213, -4.703999996185303, -5.4253997802734375, -5.452400207519531, -4.8831000328063965, -4.9028000831604, -5.470900058746338, -5.118299961090088, -5.216599941253662, -5.572999954223633, -5.042900085449219, -5.5594000816345215, -5.497300148010254, -5.44789981842041, -5.496399879455566, -5.783999919891357, -6.056000232696533, -7.100399971008301, -5.8267998695373535, -6.619699954986572, -4.899600028991699, -6.833099842071533, -6.845600128173828, -6.856599807739258, -6.17140007019043, -6.481400012969971, -6.614799976348877, -7.100399971008301, -7.096799850463867, -6.626800060272217, -7.099599838256836, -5.719900131225586, -7.115200042724609, -6.9481000900268555, -6.561200141906738, -6.828499794006348, -6.834099769592285, -6.488900184631348, -6.720300197601318, -7.194499969482422, -6.86329984664917, -6.625500202178955, -7.4653000831604, -7.464600086212158, -7.466300010681152, -6.214900016784668, -6.303100109100342, -6.5625, -5.479499816894531, -6.068299770355225, -5.083600044250488, -3.780900001525879, -5.317599773406982, -4.917099952697754, -5.44320011138916, -5.780600070953369, -4.951700210571289, -4.614999771118164, -5.50540018081665, -4.607100009918213, -5.815000057220459, -5.24399995803833, -4.779900074005127, -4.954599857330322, -5.165500164031982, -4.545199871063232, -5.330900192260742, -4.937099933624268, -4.869100093841553, -4.863500118255615, -5.399199962615967, -5.461900234222412, -5.3358001708984375, -5.595399856567383, -5.191999912261963, -5.104300022125244, -5.298399925231934, -5.329500198364258, -5.42609977722168, -5.426700115203857, -5.336900234222412, -5.447400093078613, -5.464300155639648, -6.949699878692627, -7.240099906921387, -7.085999965667725, -7.4527997970581055, -7.454699993133545, -6.4207000732421875, -7.459400177001953, -7.461699962615967, -7.480899810791016, -7.144999980926514, -7.3024001121521, -7.71999979019165, -7.7221999168396, -7.722099781036377, -6.805099964141846, -7.723499774932861, -7.723899841308594, -7.724100112915039, -7.728899955749512, -6.807600021362305, -7.731299877166748, -7.734799861907959, -7.744800090789795, -7.530900001525879, -6.445000171661377, -7.0808000564575195, -6.153800010681152, -6.95550012588501, -7.0802001953125, -7.554599761962891, -7.090199947357178, -5.291299819946289, -7.095300197601318, -6.489099979400635, -6.820300102233887, -6.355000019073486, -5.514500141143799, -5.445400238037109, -4.508399963378906, -6.815299987792969, -6.671299934387207, -5.124300003051758, -6.154600143432617, -4.225800037384033, -5.277699947357178, -5.749000072479248, -4.557300090789795, -5.804800033569336, -5.2870001792907715, -5.0792999267578125, -4.354800224304199, -5.617499828338623, -5.208700180053711, -6.223800182342529, -4.2342000007629395, -4.737400054931641, -5.515399932861328, -5.043499946594238, -4.737100124359131, -5.049699783325195, -4.557799816131592, -4.511199951171875, -5.124599933624268, -5.071599960327148, -5.229599952697754, -5.508200168609619, -5.194399833679199, -5.334499835968018, -5.0644001960754395, -4.960299968719482, -4.840000152587891, -4.968699932098389, -5.041500091552734, -5.09089994430542, -5.341599941253662, -5.344699859619141]}, \"token.table\": {\"Topic\": [1, 2, 3, 1, 2, 3, 4, 1, 2, 3, 4, 1, 4, 4, 1, 1, 2, 1, 2, 3, 4, 1, 2, 3, 4, 4, 1, 2, 3, 4, 2, 4, 1, 2, 3, 1, 2, 3, 4, 1, 2, 3, 4, 4, 2, 1, 2, 3, 3, 4, 4, 2, 4, 1, 2, 3, 1, 2, 3, 4, 1, 2, 2, 4, 1, 2, 3, 1, 2, 3, 4, 1, 2, 3, 4, 2, 1, 2, 3, 4, 2, 1, 2, 4, 2, 1, 2, 4, 1, 1, 2, 3, 4, 1, 2, 3, 4, 2, 3, 4, 1, 2, 3, 4, 1, 2, 3, 4, 3, 4, 1, 2, 3, 1, 2, 3, 4, 1, 2, 4, 2, 4, 1, 2, 3, 1, 2, 3, 4, 1, 2, 4, 1, 2, 4, 1, 2, 3, 4, 1, 2, 3, 4, 1, 2, 3, 4, 4, 2, 1, 2, 3, 4, 2, 1, 4, 2, 1, 2, 2, 3, 1, 2, 3, 4, 1, 2, 3, 4, 4, 1, 2, 3, 4, 2, 4, 1, 2, 3, 4, 4, 1, 2, 3, 4, 4, 2, 4, 1, 2, 3, 4, 1, 2, 3, 4, 2, 1, 2, 3, 2, 1, 2, 3, 4, 1, 2, 3, 4, 1, 2, 4, 1, 2, 3, 4, 2, 4, 3, 4, 1, 2, 4, 1, 2, 3, 4, 2, 1, 2, 4, 1, 2, 1, 2, 3, 2, 4, 1, 2, 3, 4, 2, 4, 2, 3, 1, 2, 3, 4, 1, 2, 4, 1, 2, 3, 4, 1, 2, 3, 4, 1, 3, 1, 2, 3, 4, 3, 4, 1, 2, 1, 2, 4, 2, 4, 2, 3, 4, 2, 1, 3, 1, 2, 3, 4, 1, 2, 3, 4, 1, 1, 2, 3, 4, 3, 4, 2, 2, 1, 2, 3, 4, 2, 1, 1, 2, 1, 1, 2, 3, 4, 4, 1, 2, 3, 4, 4, 1, 2, 3, 4, 1, 2, 3, 4, 1, 2, 3, 4, 1, 2, 3, 4, 1, 2, 3, 4, 1, 2, 3, 4, 1, 2, 3, 4, 2, 3, 1, 3, 2, 4, 1, 3, 1, 2, 3, 4, 1, 2, 3, 4, 2, 4, 1, 2, 4, 1, 2, 3, 4, 1, 2, 3, 4, 1, 2, 3, 4, 4, 4, 2, 1, 2, 3, 4, 1, 2, 3, 4, 2, 4, 1, 2, 3, 4, 2, 3, 4, 1, 2, 3, 4, 2, 4, 1, 2, 3, 4, 1, 3, 3, 1, 2, 3, 4, 1, 2, 3, 4, 4, 1, 2, 1, 2, 3, 4, 1, 2, 1, 2, 3, 1, 2, 3, 4, 1, 2, 1, 3, 2, 3, 1, 2, 3, 4, 2, 3, 4, 1, 2, 3, 4, 1, 2, 1, 2, 3, 4, 1, 2, 3, 4, 1, 2, 3, 4, 1, 2, 4, 1, 2, 3, 4, 1, 2, 3, 4, 1, 2, 4, 2, 1, 2, 4, 1, 2, 1, 2, 4, 1, 2, 1, 2, 3, 2, 3, 2, 1, 2, 2, 3, 1, 2, 1, 2, 3, 4, 1, 2, 3, 4, 1, 3, 1, 2, 4, 2, 1, 2, 4, 1, 2, 3, 4, 2, 2, 1, 2, 3, 4, 1, 2, 1, 2, 3, 4, 1, 2, 3, 4, 3, 4, 1, 2, 4, 1, 3, 1, 2, 3, 4, 1, 4, 1, 2, 3, 4, 1, 3, 4, 1, 2, 3, 4, 1, 2, 3, 4, 1, 2, 2, 2, 1, 2, 3, 4, 2, 4, 1, 2, 3, 4, 1, 2, 3, 4, 2, 2, 3, 4, 4, 1, 2, 3, 4, 1, 2, 4, 2, 3, 2, 3, 3, 2, 4, 1, 2, 3, 4, 1, 2, 3, 4, 1, 2, 3, 2, 3, 2, 4, 1, 2, 3, 4, 2, 3, 1, 2, 3, 1, 2, 3, 4, 1, 2, 3, 4, 1, 2, 3, 4, 1, 2, 3, 4, 1, 2, 3, 4, 1, 2, 3, 4, 2], \"Freq\": [0.10866668820381165, 0.8041334748268127, 0.06520001590251923, 0.18170396983623505, 0.4636584222316742, 0.07518785446882248, 0.2756887972354889, 0.08861719071865082, 0.8197090029716492, 0.06646288931369781, 0.022154297679662704, 0.7926756143569946, 0.13211260735988617, 0.7823890447616577, 0.7954785823822021, 0.9081727266311646, 0.1513621211051941, 0.06753498315811157, 0.8329314589500427, 0.022511661052703857, 0.09004664421081543, 0.13077645003795624, 0.06538822501897812, 0.06538822501897812, 0.7192704677581787, 0.8665015697479248, 0.38044044375419617, 0.48286670446395874, 0.08779394626617432, 0.05852929875254631, 0.10376206785440445, 0.8300965428352356, 0.11932484060525894, 0.5667930245399475, 0.29831209778785706, 0.265237420797348, 0.10609496384859085, 0.3713323771953583, 0.265237420797348, 0.06817197054624557, 0.34085986018180847, 0.09089596569538116, 0.5226517915725708, 0.7820397615432739, 0.9681076407432556, 0.15809208154678345, 0.3161841630935669, 0.6323683261871338, 0.6676408648490906, 0.22254694998264313, 0.782031774520874, 0.14805634319782257, 0.888338029384613, 0.5717273354530334, 0.3267013430595398, 0.12251300364732742, 0.20996542274951935, 0.44025009870529175, 0.04063846915960312, 0.3047885298728943, 0.07385092973709106, 0.886211097240448, 0.20832395553588867, 0.8332958221435547, 0.5017552971839905, 0.42253077030181885, 0.07922451943159103, 0.12541237473487854, 0.6688660383224487, 0.08360825479030609, 0.12541237473487854, 0.10692110657691956, 0.16038165986537933, 0.2673027515411377, 0.46332478523254395, 0.9313241243362427, 0.15997661650180817, 0.2133021503686905, 0.0888758972287178, 0.5510305166244507, 0.9639782905578613, 0.07173226773738861, 0.8177478909492493, 0.11477163434028625, 0.9195794463157654, 0.5722903609275818, 0.023845432326197624, 0.40537235140800476, 0.9090006351470947, 0.394061416387558, 0.3809260427951813, 0.06567690521478653, 0.15762457251548767, 0.23311610519886017, 0.11655805259943008, 0.07770536839962006, 0.5827902555465698, 0.8676577210426331, 0.018460802733898163, 0.09230401366949081, 0.31061848998069763, 0.47298726439476013, 0.03529755771160126, 0.1764877885580063, 0.17823916673660278, 0.3250243663787842, 0.16775451600551605, 0.3250243663787842, 0.6965281963348389, 0.27861127257347107, 0.7725340127944946, 0.042918555438518524, 0.1716742217540741, 0.158122256398201, 0.6054925322532654, 0.04627968743443489, 0.18897537887096405, 0.7031279802322388, 0.08789099752902985, 0.1757819950580597, 0.20820429921150208, 0.8328171968460083, 0.7960288524627686, 0.3928769826889038, 0.5500277876853943, 0.2557242512702942, 0.3068690896034241, 0.07671727240085602, 0.3708001673221588, 0.7684747576713562, 0.09605934470891953, 0.09605934470891953, 0.027910539880394936, 0.9210478067398071, 0.027910539880394936, 0.11634406447410583, 0.47202450037002563, 0.06980644166469574, 0.3423839509487152, 0.38140222430229187, 0.36366257071495056, 0.03547927737236023, 0.21878886222839355, 0.32159534096717834, 0.459801584482193, 0.010631251148879528, 0.20730939507484436, 0.8328328132629395, 0.9058413505554199, 0.16291357576847076, 0.7553265690803528, 0.01481032557785511, 0.0740516260266304, 0.9059005379676819, 0.677584707736969, 0.2258615642786026, 0.9195722937583923, 0.7547621130943298, 0.15095242857933044, 0.44006919860839844, 0.550086498260498, 0.2972503900527954, 0.516105055809021, 0.0457308292388916, 0.1437254548072815, 0.2043590247631073, 0.04087180644273758, 0.02043590322136879, 0.7356925010681152, 0.7820107340812683, 0.19423064589500427, 0.5934825539588928, 0.16185887157917023, 0.04316236823797226, 0.9478753805160522, 0.8330110907554626, 0.7139400243759155, 0.2039828598499298, 0.03399714455008507, 0.06799428910017014, 0.8329260349273682, 0.15085330605506897, 0.5724689960479736, 0.10056887567043304, 0.17792955040931702, 0.8906568288803101, 0.8543036580085754, 0.14238394796848297, 0.2138167917728424, 0.4276335835456848, 0.1251610517501831, 0.23467697203159332, 0.33001333475112915, 0.5262374877929688, 0.02675783820450306, 0.11595062911510468, 0.9197009205818176, 0.33444324135780334, 0.11148107796907425, 0.557405412197113, 0.9309685826301575, 0.098139688372612, 0.36451882123947144, 0.12617959082126617, 0.392558753490448, 0.14979678392410278, 0.5563880801200867, 0.09986452013254166, 0.18546268343925476, 0.10928324609994888, 0.21856649219989777, 0.6556994318962097, 0.15918031334877014, 0.6013478636741638, 0.13265027105808258, 0.10612021386623383, 0.10414920747280121, 0.8331936597824097, 0.8046671748161316, 0.16093343496322632, 0.17462553083896637, 0.7217854857444763, 0.09313361346721649, 0.03926049545407295, 0.8375571966171265, 0.013086831197142601, 0.11778148263692856, 0.9680758118629456, 0.019844315946102142, 0.8731498718261719, 0.09922157973051071, 0.703988790512085, 0.17599719762802124, 0.6260524988174438, 0.2504209876060486, 0.1252104938030243, 0.9197635650634766, 0.7820110321044922, 0.07355935871601105, 0.27584758400917053, 0.25745776295661926, 0.40457648038864136, 0.14842167496681213, 0.8905300498008728, 0.33319512009620667, 0.6108577251434326, 0.08034254610538483, 0.7471857070922852, 0.08837680518627167, 0.08034254610538483, 0.22308412194252014, 0.14872275292873383, 0.6692523956298828, 0.10351613163948059, 0.3105483949184418, 0.41406452655792236, 0.20703226327896118, 0.23864910006523132, 0.4602518379688263, 0.2897881865501404, 0.017046364024281502, 0.18732768297195435, 0.7493107318878174, 0.20023229718208313, 0.5339527726173401, 0.17162767052650452, 0.1048835813999176, 0.26652824878692627, 0.7107419967651367, 0.07949506491422653, 0.9141932725906372, 0.051939498633146286, 0.10387899726629257, 0.7790924906730652, 0.1733035296201706, 0.8665176033973694, 0.24521055817604065, 0.4904211163520813, 0.12260527908802032, 0.919582188129425, 0.7173911333084106, 0.17934778332710266, 0.12229844182729721, 0.7032160758972168, 0.09172382950782776, 0.07949399203062057, 0.17053350806236267, 0.7674008011817932, 0.014211125671863556, 0.056844502687454224, 0.7962393760681152, 0.34765860438346863, 0.3973241150379181, 0.01241637859493494, 0.2483275681734085, 0.5516752004623413, 0.27583760023117065, 0.9805234670639038, 0.9780224561691284, 0.18179860711097717, 0.27269789576530457, 0.05681206285953522, 0.4772213399410248, 0.939786434173584, 0.7960079908370972, 0.7023569941520691, 0.2341189980506897, 0.8476812839508057, 0.1987340748310089, 0.6504024267196655, 0.09033367037773132, 0.06323356926441193, 0.8330264687538147, 0.15483631193637848, 0.5052553415298462, 0.12223919481039047, 0.2200305461883545, 0.7820347547531128, 0.06338869780302048, 0.5614427328109741, 0.06338869780302048, 0.3078879714012146, 0.36432480812072754, 0.3812701404094696, 0.1355627179145813, 0.11861737817525864, 0.10920917242765427, 0.505092442035675, 0.07508130371570587, 0.31397637724876404, 0.04952460899949074, 0.8419183492660522, 0.04952460899949074, 0.02476230449974537, 0.09577107429504395, 0.5746264457702637, 0.023942768573760986, 0.30327504873275757, 0.1315828263759613, 0.5592270493507385, 0.20559817552566528, 0.10691104829311371, 0.027347112074494362, 0.8477604985237122, 0.054694224148988724, 0.054694224148988724, 0.2781732380390167, 0.5563464760780334, 0.1876319795846939, 0.7505279183387756, 0.18857644498348236, 0.7543057799339294, 0.7207739949226379, 0.24025799334049225, 0.028087258338928223, 0.1404362916946411, 0.7021814584732056, 0.11234903335571289, 0.08919813483953476, 0.7972083687782288, 0.0278744176030159, 0.0836232528090477, 0.9117956161499023, 0.060786373913288116, 0.630942165851593, 0.2103140503168106, 0.14020936191082, 0.11309075355529785, 0.7237808108329773, 0.056545376777648926, 0.11309075355529785, 0.41165030002593994, 0.30492615699768066, 0.1982019990682602, 0.09147784113883972, 0.22023983299732208, 0.4593573808670044, 0.10068106651306152, 0.21394726634025574, 0.8327892422676086, 0.7820789813995361, 0.9306979179382324, 0.1387443095445633, 0.1387443095445633, 0.5549772381782532, 0.1387443095445633, 0.12057464569807053, 0.6950773596763611, 0.06383363157510757, 0.12057464569807053, 0.11528247594833374, 0.8069773316383362, 0.1437280774116516, 0.616832971572876, 0.10180738568305969, 0.1377394050359726, 0.07001287490129471, 0.14002574980258942, 0.7701416611671448, 0.3397195339202881, 0.47933030128479004, 0.08842015266418457, 0.09307384490966797, 0.12979696691036224, 0.7787817716598511, 0.19232353568077087, 0.6310616135597229, 0.07212132960557938, 0.1021718755364418, 0.27755531668663025, 0.5551106333732605, 0.8849190473556519, 0.13467761874198914, 0.589214563369751, 0.06733880937099457, 0.21043376624584198, 0.2070208191871643, 0.4816402494907379, 0.05069897323846817, 0.2619447112083435, 0.7825084328651428, 0.7042773365974426, 0.17606933414936066, 0.3861597776412964, 0.3861597776412964, 0.061785563826560974, 0.16991029679775238, 0.7681345343589783, 0.19203363358974457, 0.6856133937835693, 0.26369747519493103, 0.026369746774435043, 0.26272547245025635, 0.14330480992794037, 0.09553653746843338, 0.5015668272972107, 0.7042160034179688, 0.1760540008544922, 0.7176640629768372, 0.1794160157442093, 0.18655771017074585, 0.7462308406829834, 0.27329379320144653, 0.26418399810791016, 0.06376855075359344, 0.4008309245109558, 0.15049675107002258, 0.7524837851524353, 0.07524837553501129, 0.17063391208648682, 0.6204869151115417, 0.14736564457416534, 0.05429260805249214, 0.7937754392623901, 0.1322959065437317, 0.16086342930793762, 0.6512061357498169, 0.14923474192619324, 0.03876227140426636, 0.24527324736118317, 0.4647282660007477, 0.10972750931978226, 0.18072766065597534, 0.24251395463943481, 0.3780364394187927, 0.07846039533615112, 0.2995760440826416, 0.6805437803268433, 0.1856028437614441, 0.1856028437614441, 0.10322912782430649, 0.6948114037513733, 0.11116982996463776, 0.08734772354364395, 0.34277355670928955, 0.19917923212051392, 0.11116980761289597, 0.34277355670928955, 0.9081013202667236, 0.1513502299785614, 0.9089154005050659, 0.9058725833892822, 0.7316418290138245, 0.16258707642555237, 0.08129353821277618, 0.08619609475135803, 0.8619609475135803, 0.04305308312177658, 0.9041147232055664, 0.04305308312177658, 0.7016383409500122, 0.26311439275741577, 0.1240050196647644, 0.2480100393295288, 0.620025098323822, 0.22271092236042023, 0.6681327223777771, 0.9196940064430237, 0.7944120764732361, 0.26480403542518616, 0.22110319137573242, 0.6633095741271973, 0.8227217197418213, 0.1175316721200943, 0.47073084115982056, 0.2492104470729828, 0.05538009852170944, 0.22152039408683777, 0.10726503282785416, 0.6282666325569153, 0.1838829070329666, 0.08427967131137848, 0.22387437522411346, 0.671623170375824, 0.6573544144630432, 0.219118133187294, 0.08764725178480148, 0.9059877395629883, 0.05433940514922142, 0.9237698912620544, 0.018113136291503906, 0.06921062618494034, 0.5141360759735107, 0.029661698266863823, 0.38560208678245544, 0.9056962728500366, 0.9397698044776917, 0.09564080834388733, 0.6347072124481201, 0.06955695152282715, 0.19128161668777466, 0.8216739892959595, 0.1173820048570633, 0.33213499188423157, 0.3500882387161255, 0.035906486213207245, 0.2782752513885498, 0.3824368119239807, 0.31869733333587646, 0.07967433333396912, 0.2230881303548813, 0.1316804438829422, 0.7900826930999756, 0.754104495048523, 0.15082091093063354, 0.15082091093063354, 0.3188915550708771, 0.6377831101417542, 0.15033642947673798, 0.3642767369747162, 0.034693025052547455, 0.4510093033313751, 0.13022436201572418, 0.7813461422920227, 0.040176503360271454, 0.32141202688217163, 0.08035300672054291, 0.5624710917472839, 0.8841891288757324, 0.6328991055488586, 0.3164495527744293, 0.323689341545105, 0.5394822359085083, 0.11988493800163269, 0.023976987227797508, 0.03809135779738426, 0.5459761619567871, 0.2666395306587219, 0.15236543118953705, 0.7947494983673096, 0.2649165093898773, 0.9195736050605774, 0.9750109910964966, 0.12184694409370422, 0.6135863661766052, 0.1479569971561432, 0.11749526858329773, 0.9112525582313538, 0.060750171542167664, 0.16008923947811127, 0.2401338666677475, 0.02001115493476391, 0.5803235173225403, 0.05497986078262329, 0.5429261326789856, 0.08934227377176285, 0.3126979470252991, 0.905841588973999, 0.18614846467971802, 0.6515196561813354, 0.09307423233985901, 0.7822139263153076, 0.04525827616453171, 0.7920198440551758, 0.06788741797208786, 0.09051655232906342, 0.29747894406318665, 0.2478991150856018, 0.44621843099594116, 0.2227555811405182, 0.6682667136192322, 0.2756415903568268, 0.5512831807136536, 0.8514366149902344, 0.9398612976074219, 0.7821277976036072, 0.2554256319999695, 0.08514188230037689, 0.510851263999939, 0.08514188230037689, 0.3033555746078491, 0.27577778697013855, 0.27577778697013855, 0.13788889348506927, 0.5096975564956665, 0.449733167886734, 0.02998221106827259, 0.10342330485582352, 0.8273864388465881, 0.1297861635684967, 0.7787169814109802, 0.0368584543466568, 0.6192220449447632, 0.0516018383204937, 0.2874959409236908, 0.37003958225250244, 0.5550593733787537, 0.2476975917816162, 0.1238487958908081, 0.6192439794540405, 0.24375420808792114, 0.4753206968307495, 0.17062795162200928, 0.1096893921494484, 0.15921775996685028, 0.535148561000824, 0.07960887998342514, 0.22776983678340912, 0.09518338739871979, 0.7614670991897583, 0.033314187079668045, 0.11422006785869598, 0.14492152631282806, 0.3985341787338257, 0.024153586477041245, 0.434764564037323, 0.05361219495534897, 0.8220536708831787, 0.03574146330356598, 0.10722438991069794, 0.03275837376713753, 0.8517177104949951, 0.02456878125667572, 0.09281539171934128, 0.9475123286247253], \"Term\": [\"aborigin\", \"aborigin\", \"aborigin\", \"activ\", \"activ\", \"activ\", \"activ\", \"adult\", \"adult\", \"adult\", \"adult\", \"aesthet\", \"aesthet\", \"agent\", \"aliv\", \"analyz\", \"analyz\", \"annual\", \"annual\", \"annual\", \"annual\", \"anoth\", \"anoth\", \"anoth\", \"anoth\", \"anti-oppress\", \"area\", \"area\", \"area\", \"area\", \"artist-run_centr\", \"artist-run_centr\", \"artwork\", \"artwork\", \"artwork\", \"associ\", \"associ\", \"associ\", \"associ\", \"awar\", \"awar\", \"awar\", \"awar\", \"beautifi\", \"black\", \"blind\", \"blind\", \"blind\", \"blog\", \"blog\", \"border\", \"boundari\", \"boundari\", \"bring_togeth\", \"bring_togeth\", \"bring_togeth\", \"build\", \"build\", \"build\", \"build\", \"carv\", \"carv\", \"catalyz\", \"catalyz\", \"center\", \"center\", \"center\", \"centr\", \"centr\", \"centr\", \"centr\", \"challeng\", \"challeng\", \"challeng\", \"challeng\", \"chanc\", \"chang\", \"chang\", \"chang\", \"chang\", \"charit_organ\", \"child\", \"child\", \"child\", \"choir\", \"circu\", \"circu\", \"circu\", \"cirqu\", \"citi\", \"citi\", \"citi\", \"citi\", \"citizen\", \"citizen\", \"citizen\", \"citizen\", \"class\", \"class\", \"class\", \"collabor\", \"collabor\", \"collabor\", \"collabor\", \"collect\", \"collect\", \"collect\", \"collect\", \"commerci\", \"commerci\", \"commiss\", \"commiss\", \"commiss\", \"commun\", \"commun\", \"commun\", \"commun\", \"conflict\", \"conflict\", \"conflict\", \"conserv\", \"conserv\", \"consolid\", \"contact\", \"contact\", \"contemporari\", \"contemporari\", \"contemporari\", \"contemporari\", \"counti\", \"counti\", \"counti\", \"craft\", \"craft\", \"craft\", \"creat\", \"creat\", \"creat\", \"creat\", \"creativ\", \"creativ\", \"creativ\", \"creativ\", \"cultur\", \"cultur\", \"cultur\", \"cultur\", \"curios\", \"cycl\", \"danc\", \"danc\", \"danc\", \"danc\", \"data\", \"debat\", \"debat\", \"dementia\", \"democrat\", \"democrat\", \"depart\", \"depart\", \"develop\", \"develop\", \"develop\", \"develop\", \"dialogu\", \"dialogu\", \"dialogu\", \"dialogu\", \"diamond\", \"disabl\", \"disabl\", \"disabl\", \"disabl\", \"drum\", \"eco\", \"econom\", \"econom\", \"econom\", \"econom\", \"edg\", \"educ\", \"educ\", \"educ\", \"educ\", \"embrac\", \"employ\", \"employ\", \"engag\", \"engag\", \"engag\", \"engag\", \"event\", \"event\", \"event\", \"event\", \"everyday_life\", \"exampl\", \"exampl\", \"exampl\", \"execut_director\", \"exhibit\", \"exhibit\", \"exhibit\", \"exhibit\", \"experi\", \"experi\", \"experi\", \"experi\", \"experiment\", \"experiment\", \"experiment\", \"express\", \"express\", \"express\", \"express\", \"extend\", \"extend\", \"face_barrier\", \"face_barrier\", \"festiv\", \"festiv\", \"festiv\", \"film\", \"film\", \"film\", \"film\", \"filmmak\", \"first_nation\", \"first_nation\", \"first_nation\", \"flexibl\", \"flexibl\", \"food\", \"food\", \"food\", \"free_charg\", \"freeli\", \"galleri\", \"galleri\", \"galleri\", \"galleri\", \"gender_ident\", \"gender_ident\", \"graffiti\", \"graffiti\", \"group\", \"group\", \"group\", \"group\", \"head\", \"head\", \"head\", \"heal\", \"heal\", \"heal\", \"heal\", \"health\", \"health\", \"health\", \"health\", \"healthcar\", \"healthcar\", \"help\", \"help\", \"help\", \"help\", \"hiv_aid\", \"hiv_aid\", \"hous\", \"hous\", \"human_right\", \"human_right\", \"human_right\", \"humankind\", \"humankind\", \"ill\", \"ill\", \"ill\", \"illustr\", \"incept\", \"incept\", \"includ\", \"includ\", \"includ\", \"includ\", \"indigen\", \"indigen\", \"indigen\", \"indigen\", \"inequ\", \"innov\", \"innov\", \"innov\", \"innov\", \"insight\", \"insight\", \"instrument\", \"island\", \"issu\", \"issu\", \"issu\", \"issu\", \"jumbl\", \"laboratori\", \"landscap\", \"landscap\", \"lay\", \"learn\", \"learn\", \"learn\", \"learn\", \"length\", \"life\", \"life\", \"life\", \"life\", \"literari_medium\", \"live\", \"live\", \"live\", \"live\", \"local\", \"local\", \"local\", \"local\", \"make\", \"make\", \"make\", \"make\", \"market\", \"market\", \"market\", \"market\", \"medium\", \"medium\", \"medium\", \"medium\", \"member\", \"member\", \"member\", \"member\", \"mentor\", \"mentor\", \"mentor\", \"mentor\", \"militari\", \"militari\", \"minor\", \"minor\", \"motiv\", \"motiv\", \"multi-facet\", \"multi-facet\", \"mural\", \"mural\", \"mural\", \"mural\", \"music\", \"music\", \"music\", \"music\", \"nativ\", \"nativ\", \"natur\", \"natur\", \"natur\", \"need\", \"need\", \"need\", \"need\", \"network\", \"network\", \"network\", \"network\", \"new\", \"new\", \"new\", \"new\", \"non-judgement\", \"norm\", \"northwest\", \"novel\", \"novel\", \"novel\", \"novel\", \"offer\", \"offer\", \"offer\", \"offer\", \"old\", \"old\", \"opportun\", \"opportun\", \"opportun\", \"opportun\", \"oppress\", \"oppress\", \"oppress\", \"organ\", \"organ\", \"organ\", \"organ\", \"paper\", \"paper\", \"particip\", \"particip\", \"particip\", \"particip\", \"pathway\", \"pathway\", \"patient\", \"peopl\", \"peopl\", \"peopl\", \"peopl\", \"perform\", \"perform\", \"perform\", \"perform\", \"philosoph\", \"photovoic\", \"photovoic\", \"place\", \"place\", \"place\", \"place\", \"placemak\", \"placemak\", \"plan\", \"plan\", \"plan\", \"polit\", \"polit\", \"polit\", \"polit\", \"pop\", \"pop\", \"port\", \"port\", \"post\", \"post\", \"practic\", \"practic\", \"practic\", \"practic\", \"printmak\", \"printmak\", \"printmak\", \"profession\", \"profession\", \"profession\", \"profession\", \"profit_organ\", \"profit_organ\", \"program\", \"program\", \"program\", \"program\", \"project\", \"project\", \"project\", \"project\", \"promot\", \"promot\", \"promot\", \"promot\", \"propos\", \"propos\", \"propos\", \"provid\", \"provid\", \"provid\", \"provid\", \"public\", \"public\", \"public\", \"public\", \"public_privat\", \"public_privat\", \"push\", \"quirk\", \"rather\", \"rather\", \"rather\", \"read\", \"read\", \"record\", \"record\", \"record\", \"red\", \"red\", \"rehabilit\", \"rehabilit\", \"rehabilit\", \"reintegr\", \"reintegr\", \"remot\", \"renew\", \"renew\", \"rental\", \"rental\", \"report\", \"report\", \"role\", \"role\", \"role\", \"role\", \"school\", \"school\", \"school\", \"school\", \"seat\", \"seat\", \"sector\", \"sector\", \"sector\", \"sell\", \"senior\", \"senior\", \"senior\", \"share\", \"share\", \"share\", \"share\", \"sing\", \"sketch\", \"skill\", \"skill\", \"skill\", \"skill\", \"slam\", \"slam\", \"social\", \"social\", \"social\", \"social\", \"social_chang\", \"social_chang\", \"social_chang\", \"social_chang\", \"solidar\", \"solidar\", \"sometim\", \"sometim\", \"sometim\", \"sourc\", \"sourc\", \"space\", \"space\", \"space\", \"space\", \"spark\", \"spark\", \"spirit\", \"spirit\", \"spirit\", \"spirit\", \"squamish\", \"stress\", \"stress\", \"student\", \"student\", \"student\", \"student\", \"studio\", \"studio\", \"studio\", \"studio\", \"submit\", \"submit\", \"summer_camp\", \"suppli\", \"support\", \"support\", \"support\", \"support\", \"target\", \"target\", \"theater\", \"theater\", \"theater\", \"theater\", \"theatr\", \"theatr\", \"theatr\", \"theatr\", \"theatric_product\", \"ticket\", \"ticket\", \"ticket\", \"tomorrow\", \"tradit\", \"tradit\", \"tradit\", \"tradit\", \"transform\", \"transform\", \"transform\", \"trauma\", \"trauma\", \"traumat\", \"traumat\", \"treatment\", \"underserv\", \"unfold\", \"uniti\", \"uniti\", \"uniti\", \"uniti\", \"univers\", \"univers\", \"univers\", \"univers\", \"venu\", \"venu\", \"venu\", \"veteran\", \"veteran\", \"visibl\", \"visibl\", \"visual\", \"visual\", \"visual\", \"visual\", \"wall\", \"wall\", \"war\", \"war\", \"war\", \"woman\", \"woman\", \"woman\", \"woman\", \"work\", \"work\", \"work\", \"work\", \"workshop\", \"workshop\", \"workshop\", \"workshop\", \"world\", \"world\", \"world\", \"world\", \"young\", \"young\", \"young\", \"young\", \"youth\", \"youth\", \"youth\", \"youth\", \"youth_adult\"]}, \"R\": 30, \"lambda.step\": 0.01, \"plot.opts\": {\"xlab\": \"PC1\", \"ylab\": \"PC2\"}, \"topic.order\": [1, 2, 3, 4]};\n",
       "\n",
       "function LDAvis_load_lib(url, callback){\n",
       "  var s = document.createElement('script');\n",
       "  s.src = url;\n",
       "  s.async = true;\n",
       "  s.onreadystatechange = s.onload = callback;\n",
       "  s.onerror = function(){console.warn(\"failed to load library \" + url);};\n",
       "  document.getElementsByTagName(\"head\")[0].appendChild(s);\n",
       "}\n",
       "\n",
       "if(typeof(LDAvis) !== \"undefined\"){\n",
       "   // already loaded: just create the visualization\n",
       "   !function(LDAvis){\n",
       "       new LDAvis(\"#\" + \"ldavis_el1840150078912163922992952\", ldavis_el1840150078912163922992952_data);\n",
       "   }(LDAvis);\n",
       "}else if(typeof define === \"function\" && define.amd){\n",
       "   // require.js is available: use it to load d3/LDAvis\n",
       "   require.config({paths: {d3: \"https://cdnjs.cloudflare.com/ajax/libs/d3/3.5.5/d3.min\"}});\n",
       "   require([\"d3\"], function(d3){\n",
       "      window.d3 = d3;\n",
       "      LDAvis_load_lib(\"https://cdn.rawgit.com/bmabey/pyLDAvis/files/ldavis.v1.0.0.js\", function(){\n",
       "        new LDAvis(\"#\" + \"ldavis_el1840150078912163922992952\", ldavis_el1840150078912163922992952_data);\n",
       "      });\n",
       "    });\n",
       "}else{\n",
       "    // require.js not available: dynamically load d3 & LDAvis\n",
       "    LDAvis_load_lib(\"https://cdnjs.cloudflare.com/ajax/libs/d3/3.5.5/d3.min.js\", function(){\n",
       "         LDAvis_load_lib(\"https://cdn.rawgit.com/bmabey/pyLDAvis/files/ldavis.v1.0.0.js\", function(){\n",
       "                 new LDAvis(\"#\" + \"ldavis_el1840150078912163922992952\", ldavis_el1840150078912163922992952_data);\n",
       "            })\n",
       "         });\n",
       "}\n",
       "</script>"
      ],
      "text/plain": [
       "PreparedData(topic_coordinates=               x           y  topics  cluster       Freq\n",
       "topic                                                   \n",
       "0      20.103951 -315.445038       1        1  19.065178\n",
       "1      26.388409 -428.544037       2        1  52.255322\n",
       "2     -92.995270 -321.725677       3        1   9.278401\n",
       "3     -86.710785 -434.824768       4        1  19.401098, topic_info=     Category        Freq          Term       Total  loglift  logprob\n",
       "101   Default  515.000000       program  515.000000  30.0000  30.0000\n",
       "79    Default  338.000000       creativ  338.000000  29.0000  29.0000\n",
       "53    Default  215.000000        public  215.000000  28.0000  28.0000\n",
       "6     Default  376.000000        cultur  376.000000  27.0000  27.0000\n",
       "120   Default  291.000000        theatr  291.000000  26.0000  26.0000\n",
       "102   Default  309.000000       project  309.000000  25.0000  25.0000\n",
       "5     Default  300.000000         creat  300.000000  24.0000  24.0000\n",
       "58    Default  229.000000       support  229.000000  23.0000  23.0000\n",
       "32    Default  452.000000          work  452.000000  22.0000  22.0000\n",
       "381   Default  222.000000        social  222.000000  21.0000  21.0000\n",
       "29    Default  172.000000         space  172.000000  20.0000  20.0000\n",
       "297   Default  214.000000         organ  214.000000  19.0000  19.0000\n",
       "168   Default  121.000000        member  121.000000  18.0000  18.0000\n",
       "106   Default  130.000000        school  130.000000  17.0000  17.0000\n",
       "276   Default   35.000000         mural   35.000000  16.0000  16.0000\n",
       "108   Default   78.000000        studio   78.000000  15.0000  15.0000\n",
       "81    Default  191.000000         engag  191.000000  14.0000  14.0000\n",
       "103   Default  251.000000        provid  251.000000  13.0000  13.0000\n",
       "80    Default  306.000000       develop  306.000000  12.0000  12.0000\n",
       "273   Default  118.000000         local  118.000000  11.0000  11.0000\n",
       "476   Default   58.000000        health   58.000000  10.0000  10.0000\n",
       "225   Default  128.000000    profession  128.000000   9.0000   9.0000\n",
       "137   Default  258.000000          educ  258.000000   8.0000   8.0000\n",
       "4     Default   95.000000       collect   95.000000   7.0000   7.0000\n",
       "402   Default   56.000000      challeng   56.000000   6.0000   6.0000\n",
       "150   Default  104.000000          help  104.000000   5.0000   5.0000\n",
       "52    Default  109.000000       practic  109.000000   4.0000   4.0000\n",
       "558   Default   80.000000     transform   80.000000   3.0000   3.0000\n",
       "8     Default   92.000000        disabl   92.000000   2.0000   2.0000\n",
       "329   Default   48.000000       dialogu   48.000000   1.0000   1.0000\n",
       "...       ...         ...           ...         ...      ...      ...\n",
       "53     Topic4   74.240181        public  215.885956   0.5724  -4.5573\n",
       "1128   Topic4   21.325020         polit   41.868797   0.9652  -5.8048\n",
       "189    Topic4   35.790314         world   82.803436   0.8010  -5.2870\n",
       "52     Topic4   44.051434       practic  109.771973   0.7268  -5.0793\n",
       "120    Topic4   90.911781        theatr  291.015656   0.4764  -4.3548\n",
       "402    Topic4   25.717875      challeng   56.116142   0.8596  -5.6175\n",
       "119    Topic4   38.705513         share  101.140533   0.6793  -5.2087\n",
       "453    Topic4   14.025026        spirit   24.890169   1.0662  -6.2238\n",
       "32     Topic4  102.559753          work  452.210876   0.1561  -4.2342\n",
       "381    Topic4   62.005726        social  222.800980   0.3608  -4.7374\n",
       "141    Topic4   28.479994       exhibit   71.326904   0.7218  -5.5154\n",
       "166    Topic4   45.658680          make  146.507843   0.4740  -5.0435\n",
       "51     Topic4   62.025982       perform  236.691177   0.3006  -4.7371\n",
       "201    Topic4   45.373455         build  147.643356   0.4600  -5.0497\n",
       "79     Topic4   74.208565       creativ  338.225616   0.1230  -4.5578\n",
       "6      Topic4   77.746452        cultur  376.249237   0.0630  -4.5112\n",
       "178    Topic4   42.100521        promot  140.198120   0.4368  -5.1246\n",
       "123    Topic4   44.393681         activ  159.600250   0.3603  -5.0716\n",
       "46     Topic4   37.903805        medium  125.298798   0.4442  -5.2296\n",
       "39     Topic4   28.687819  contemporari   78.209244   0.6369  -5.5082\n",
       "112    Topic4   39.263206        visual  135.654083   0.4000  -5.1944\n",
       "249    Topic4   34.128090          live  110.429779   0.4656  -5.3345\n",
       "81     Topic4   44.713348         engag  191.752945   0.1839  -5.0644\n",
       "21     Topic4   49.619083         peopl  237.604446   0.0736  -4.9603\n",
       "102    Topic4   55.963093       project  309.858490  -0.0716  -4.8400\n",
       "206    Topic4   49.200546        commun  259.293030  -0.0222  -4.9687\n",
       "137    Topic4   45.745907          educ  258.529297  -0.0921  -5.0415\n",
       "80     Topic4   43.544052       develop  306.139221  -0.3104  -5.0909\n",
       "366    Topic4   33.886299           new  158.917664   0.0945  -5.3416\n",
       "289    Topic4   33.781876         youth  366.318542  -0.7437  -5.3447\n",
       "\n",
       "[332 rows x 6 columns], token_table=      Topic      Freq          Term\n",
       "term                               \n",
       "305       1  0.108667      aborigin\n",
       "305       2  0.804133      aborigin\n",
       "305       3  0.065200      aborigin\n",
       "123       1  0.181704         activ\n",
       "123       2  0.463658         activ\n",
       "123       3  0.075188         activ\n",
       "123       4  0.275689         activ\n",
       "306       1  0.088617         adult\n",
       "306       2  0.819709         adult\n",
       "306       3  0.066463         adult\n",
       "306       4  0.022154         adult\n",
       "1410      1  0.792676       aesthet\n",
       "1410      4  0.132113       aesthet\n",
       "1763      4  0.782389         agent\n",
       "1016      1  0.795479          aliv\n",
       "1593      1  0.908173        analyz\n",
       "1593      2  0.151362        analyz\n",
       "35        1  0.067535        annual\n",
       "35        2  0.832931        annual\n",
       "35        3  0.022512        annual\n",
       "35        4  0.090047        annual\n",
       "1215      1  0.130776         anoth\n",
       "1215      2  0.065388         anoth\n",
       "1215      3  0.065388         anoth\n",
       "1215      4  0.719270         anoth\n",
       "1362      4  0.866502  anti-oppress\n",
       "195       1  0.380440          area\n",
       "195       2  0.482867          area\n",
       "195       3  0.087794          area\n",
       "195       4  0.058529          area\n",
       "...     ...       ...           ...\n",
       "1380      2  0.370040          wall\n",
       "1380      3  0.555059          wall\n",
       "1499      1  0.247698           war\n",
       "1499      2  0.123849           war\n",
       "1499      3  0.619244           war\n",
       "74        1  0.243754         woman\n",
       "74        2  0.475321         woman\n",
       "74        3  0.170628         woman\n",
       "74        4  0.109689         woman\n",
       "32        1  0.159218          work\n",
       "32        2  0.535149          work\n",
       "32        3  0.079609          work\n",
       "32        4  0.227770          work\n",
       "188       1  0.095183      workshop\n",
       "188       2  0.761467      workshop\n",
       "188       3  0.033314      workshop\n",
       "188       4  0.114220      workshop\n",
       "189       1  0.144922         world\n",
       "189       2  0.398534         world\n",
       "189       3  0.024154         world\n",
       "189       4  0.434765         world\n",
       "554       1  0.053612         young\n",
       "554       2  0.822054         young\n",
       "554       3  0.035741         young\n",
       "554       4  0.107224         young\n",
       "289       1  0.032758         youth\n",
       "289       2  0.851718         youth\n",
       "289       3  0.024569         youth\n",
       "289       4  0.092815         youth\n",
       "1347      2  0.947512   youth_adult\n",
       "\n",
       "[655 rows x 3 columns], R=30, lambda_step=0.01, plot_opts={'xlab': 'PC1', 'ylab': 'PC2'}, topic_order=[1, 2, 3, 4])"
      ]
     },
     "execution_count": 26,
     "metadata": {},
     "output_type": "execute_result"
    }
   ],
   "source": [
    "# possible dimension reduction schemes for visualization: 'pcoa', 'mmds' or 'tsne'\n",
    "\n",
    "diag.LDAvis(optimal_model, is_notebook=True, mds='tsne')"
   ]
  },
  {
   "cell_type": "code",
   "execution_count": 27,
   "metadata": {},
   "outputs": [
    {
     "name": "stdout",
     "output_type": "stream",
     "text": [
      "Time elapsed to run code: 1875.634\n",
      "CPU time elapsed: 1547.516\n"
     ]
    }
   ],
   "source": [
    "end_time = time.time()\n",
    "end_cpu = time.process_time()\n",
    "\n",
    "time_taken = end_time - start_time\n",
    "cpu_time = end_cpu - start_cpu\n",
    "print('Time elapsed to run code: {}\\nCPU time elapsed: {}'.format(round(time_taken, 3), round(cpu_time, 3)))"
   ]
  },
  {
   "cell_type": "code",
   "execution_count": null,
   "metadata": {},
   "outputs": [],
   "source": []
  },
  {
   "cell_type": "code",
   "execution_count": null,
   "metadata": {},
   "outputs": [],
   "source": []
  },
  {
   "cell_type": "code",
   "execution_count": null,
   "metadata": {},
   "outputs": [],
   "source": []
  },
  {
   "cell_type": "code",
   "execution_count": null,
   "metadata": {},
   "outputs": [],
   "source": []
  },
  {
   "cell_type": "code",
   "execution_count": null,
   "metadata": {},
   "outputs": [],
   "source": []
  },
  {
   "cell_type": "code",
   "execution_count": null,
   "metadata": {},
   "outputs": [],
   "source": []
  }
 ],
 "metadata": {
  "kernelspec": {
   "display_name": "Python 3",
   "language": "python",
   "name": "python3"
  },
  "language_info": {
   "codemirror_mode": {
    "name": "ipython",
    "version": 3
   },
   "file_extension": ".py",
   "mimetype": "text/x-python",
   "name": "python",
   "nbconvert_exporter": "python",
   "pygments_lexer": "ipython3",
   "version": "3.7.2"
  }
 },
 "nbformat": 4,
 "nbformat_minor": 2
}
